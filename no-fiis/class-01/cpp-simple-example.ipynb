{
 "cells": [
  {
   "cell_type": "markdown",
   "metadata": {},
   "source": [
    "Si tienes problemas de compatibilidad al mostrar ese archivo en tu navegador, usa el siguiente [link](http://nbviewer.jupyter.org/github/ProgramacionCompetitivaUNI/ProgramacionCompetitivaUNI/blob/master/no-fiis/class-01/cpp-simple-example.ipynb 'nbviewer')"
   ]
  },
  {
   "cell_type": "markdown",
   "metadata": {},
   "source": [
    "# Clase 1"
   ]
  },
  {
   "cell_type": "markdown",
   "metadata": {},
   "source": [
    "### Objetivos\n",
    "* Familiarizarce con los recursos de aprendizaje de CP\n",
    "* Aprender lo básico de C++ necesario para CP  \n",
    "Nota:  \n",
    "*CP : Competitive Programming*"
   ]
  },
  {
   "cell_type": "markdown",
   "metadata": {},
   "source": [
    "### Familiarizandose con los recursos de aprendizaje de CP"
   ]
  },
  {
   "cell_type": "markdown",
   "metadata": {},
   "source": [
    "Primero, necesitamos familiarizarnos con los jueces virtuales para poder practicar y mejorar constantemente. En estos jueces usamos un *nickname* que nos representa.  \n",
    "Por ello, primero piensa en un *nickname* (ejemplos <a href=\"http://codeforces.com/ratings\" target=\"_blank\" title=\"Nicknames\"> aquí </a>\n",
    ") y luego usalo para crearte cuentas en las siguientes páginas:  \n",
    "* <a href=\"http://codeforces.com/\" target=\"_blank\" title=\"Codeforces\"> Codeforces </a>\n",
    "* <a href=\"https://uva.onlinejudge.org/\" target=\"_blank\" title=\"UVa\"> UVa </a>\n",
    "* <a href=\"https://www.codechef.com/\" target=\"_blank\" title=\"Codechef\"> Codechef </a>\n",
    "* <a href=\"https://www.hackerrank.com/\" target=\"_blank\" title=\"HackerRank\"> HackerRank </a>\n",
    "* <a href=\"http://www.spoj.com/\" target=\"_blank\" title=\"SPOJ\"> SPOJ </a>\n",
    "* <a href=\"https://www.hackerearth.com/\" target=\"_blank\" title=\"HackerEarth\"> HackerEarth </a>\n",
    "* <a href=\"https://icpcarchive.ecs.baylor.edu/\" target=\"_blank\" title=\"LiveArchive\"> LiveArchive </a>"
   ]
  },
  {
   "cell_type": "markdown",
   "metadata": {},
   "source": [
    "Estos son los principales jueces que usamos. Básicamente en ellos encontramos problemas para los cuales creamos códigos que enviamos a estos jueces para que ellos se encarguen de correr nuestro código ante muchos casos de prueba, tras lo cual nos retornan alguno de los siguientes veredictos:\n",
    "* <b style=\"color:green\"> Accepted </b> : Pasó todos los casos con éxito  \n",
    "* <b style=\"color:red\"> Wrong Answer </b> : Se equivocó en algun caso\n",
    "* <b style=\"color:Turquoise\"> Runtime Error </b> : Se produjo un error durante la execución del código\n",
    "* <b style=\"color:orange\"> Compile Error </b> : No se pudo compilar el código correctamente\n",
    "* <b style=\"color:blue\"> Time Limit Exceded </b> : La ejecución del código tomo más tiempo del permitido\n",
    "* <b style=\"color:peru\"> Presentation Error </b> : El resultado del código es correcto pero el formato no\n",
    "\n",
    "Puedes ver ejemplos de esos veredictos aquí:\n",
    "* <a href=\"https://uhunt.onlinejudge.org/\" target=\"_blank\" title=\"uHunt\"> uHunt </a>\n",
    "* <a href=\"http://codeforces.com/problemset/status\" target=\"_blank\" title=\"Codeforces Status\"> Codeforces Status </a>"
   ]
  },
  {
   "cell_type": "markdown",
   "metadata": {},
   "source": [
    "Ahora, para poder experimentarlo personalmente resolveremos nuestro primer problema en <a href=\"https://uva.onlinejudge.org/\" target=\"_blank\" title=\"UVa\"> UVa </a>\n",
    "\n",
    "<a href=\"https://uva.onlinejudge.org/index.php?option=com_onlinejudge&Itemid=8&category=24&page=show_problem&problem=2113\" target=\"_blank\" title=\"Primer problema\"> Problema 11172 - Relational Operator </a>  \n",
    "\n",
    "**Problema:**  \n",
    "Recibiras un número `t` seguido de `t` casos. Cada caso consiste en dos números `a` y `b`. Por cada caso debes imprimir `<`, `>`, o `=` segun sea la relación entre `a` y `b`.  \n",
    "**Solucion:**"
   ]
  },
  {
   "cell_type": "markdown",
   "metadata": {},
   "source": [
    "#### 11172.cpp\n",
    "```c++\n",
    "#include <iostream>\n",
    "\n",
    "using namespace std;\n",
    "\n",
    "// Mi funcion principal\n",
    "int main() {\n",
    "    int t, a, b;\n",
    "    cin >> t;\n",
    "    for (int caso = 1; caso <= t; caso++) {\n",
    "        cin >> a >> b;\n",
    "        if (a < b) cout << \"<\" << endl;\n",
    "        else if (a > b) cout << \">\" << endl;\n",
    "        else cout << \"=\" << endl;\n",
    "    }\n",
    "    return 0;\n",
    "}\n",
    "```"
   ]
  },
  {
   "cell_type": "markdown",
   "metadata": {},
   "source": [
    "La misma estructura del problema anterior la encontramos en practicamente todos los problemas.\n",
    "La estructura general en la que se suelen presentar es la siguiente:  \n",
    "1. Background\n",
    "2. Descripción del problema\n",
    "3. Especificaciones de entrada\n",
    "4. Especificaciones de salida\n",
    "5. Advertencias o recomendaciones  \n",
    "**Nota**  \n",
    "Muchos problemas suelen tratar de ser cortos y no presentan los puntos 1 y 5"
   ]
  },
  {
   "cell_type": "markdown",
   "metadata": {},
   "source": [
    "Ahora, para trabajar más comodos necesitamos un editor de texto, una IDE o un recurso online que nos ayude en el resaltado de la syntasis de c++, el autocompletado, etc. Por ejemplo (ordenados alfabeticamente):  \n",
    "#### Editores\n",
    "* <a href=\"https://atom.io/\" target=\"_blank\" title=\"Atom\"> Atom </a>\n",
    "* <a href=\"https://www.gnu.org/software/emacs/\" target=\"_blank\" title=\"Emacs\"> Emacs </a>\n",
    "* <a href=\"https://www.sublimetext.com/\" target=\"_blank\" title=\"Sublime\"> Sublime </a>\n",
    "* <a href=\"http://www.vim.org/download.php\" target=\"_blank\" title=\"Vim\"> Vim </a>\n",
    "* <a href=\"https://code.visualstudio.com/\" target=\"_blank\" title=\"Visual Studio Code\"> Visual Studio Code </a>\n",
    "\n",
    "#### IDEs\n",
    "* <a href=\"https://www.jetbrains.com/clion/\" target=\"_blank\" title=\"Clion\"> Clion </a>  \n",
    "* <a href=\"http://www.codeblocks.org/\" target=\"_blank\" title=\"CodeBlocks\"> CodeBlocks </a>  \n",
    "* <a href=\"http://www.bloodshed.net/dev/\" target=\"_blank\" title=\"Dev C++\"> Dev C++ </a>  \n",
    "\n",
    "#### Online\n",
    "* <a href=\"https://c9.io/login\" target=\"_blank\" title=\"Cloud9\"> Cloud9 </a>  \n",
    "* <a href=\"https://www.codechef.com/ide\" target=\"_blank\" title=\"Codechef\"> Codechef </a>  \n",
    "* <a href=\"https://ideone.com/\" target=\"_blank\" title=\"Ideone\"> Ideone </a>  \n",
    "* <a href=\"https://pastebin.com/\" target=\"_blank\" title=\"Pastebin\"> Pastebin </a>  "
   ]
  },
  {
   "cell_type": "markdown",
   "metadata": {},
   "source": [
    "### Aprender lo básico de C++ necesario para CP"
   ]
  },
  {
   "cell_type": "markdown",
   "metadata": {},
   "source": [
    "Código en vivo...  \n",
    "Terminando la clase lo subo"
   ]
  }
 ],
 "metadata": {
  "kernelspec": {
   "display_name": "xeus C++11",
   "language": "",
   "name": "xeus-cling-cpp11"
  },
  "language_info": {
   "codemirror_mode": "text/x-c++src",
   "file_extension": ".cpp",
   "mimetype": "text/x-c++src",
   "name": "c++",
   "version": ""
  }
 },
 "nbformat": 4,
 "nbformat_minor": 2
}
