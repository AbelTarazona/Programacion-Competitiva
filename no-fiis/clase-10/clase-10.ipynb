{
 "cells": [
  {
   "cell_type": "markdown",
   "metadata": {},
   "source": [
    "# Backtracking"
   ]
  },
  {
   "cell_type": "markdown",
   "metadata": {},
   "source": [
    "## Objetivos\n",
    "* Familiarizarse con encontrar soluciones recursivas\n",
    "* Desarrollar el instinto para encontrar complejidades\n",
    "* Entender la formación-recorrido del árbol de recursión\n",
    "* Introducir la idea de memoization y prunning"
   ]
  },
  {
   "cell_type": "markdown",
   "metadata": {},
   "source": [
    "## Problema motivacional\n",
    "José recientemente leyó un post: [\"42: The answer to life, the universe and everything\"](https://www.independent.co.uk/life-style/history/42-the-answer-to-life-the-universe-and-everything-2205734.html '42') y se quedó impresionado de la cantidad de veces que suele aparecer este número. Ahora, él está tan aburrido que desea analizar todas las palabras cuyas letras *sumen* 42 y que tengan como máximo 7 letras, pero ha amanecido con mucha flojera por lo que te ha pedido ayuda con la generación de dichas palabras. \n",
    "\n",
    "**Nota:** José asigna a cada letra un número de la siguiente manera: (A -> 1, B -> 2, C -> 3, ...). Asigna el mismo número tanto a letra mayúsculas como minúsculas y solo acepta letras a-z (no incluye la ñ) en las palabras. Así, por ejemplo, la suma de las letra de \"Hola\" es 8 + 15 + 12 + 1 = 36\n"
   ]
  },
  {
   "cell_type": "markdown",
   "metadata": {},
   "source": [
    "## Idea de la solución\n",
    "\n",
    "Primero, notemos que como las mayúsculas y minúsculas tienen el mismo valor según José, entonces podemos trabajar únicamente con letras minúsculas.\n",
    "\n",
    "Ahora, sea:\n",
    "* $(S_k) = $ todas las posibles palabras de tamaño $k$.\n",
    "* $s_k = $ un elemento arbitrario de $(S_k)$\n",
    "\n",
    "Además, notemos que $k \\leq sum (s_k) \\leq 26 * k$\n",
    "\n",
    "Entonces, sea $s$ una palabra cuyas letras sumen $42$, notamos que:\n",
    "\n",
    "$$s \\in S_2 \\lor S_3 \\lor \\dots \\lor S_7$$\n",
    "\n",
    "Entonces, ahora nos proponemos en generar las palabras de $S_2, S_3, \\dots, S_{7}$ y buscar aquellas palabras que sumen 42 para asi resolver el problema planteado.\n",
    "\n",
    "Sin embargo, nos damos cuenta que $|S_{7}| = 26 ^ {7} = O(10 ^ {10})$\n",
    "\n",
    "Pero, hay dos observaciones importantes respecto a las palabras que suman 42:\n",
    "\n",
    "* Si $s$ es una palabra que suma 42, entonces cualquier permutación de sus elementos tambien suma 42\n",
    "* Si $s$ suma más de 42, cualquier palabra que contenga a $s$ en cualquier orden también sumará más de 42\n",
    "\n",
    "Entonces, podemos centrarnos en formar palabras\n",
    "\n",
    "$$s = a_1a_2 \\dots a_n \\quad \\mid \\quad a_1 \\leq a_2 \\leq \\dots \\leq a_n$$\n",
    "\n",
    "De manera que, si $sum (s) = 42$, entonces podemos usar *next_permutation* y formar todas sus permutaciones (notemos que cualquier palabra que sume 42 es una permutación de solo una palabra $s$ de la forma anterior).\n",
    "\n",
    "Y si $sum (s) > 42$ entonces podriamos evitar seguir formando palabras que contengan a $s$.\n",
    "\n",
    "Entonces, sea:\n",
    "\n",
    "$S_{k}^{*} = \\{s_k \\in S_k \\mid sum (s_k) = 42 \\land s_k = a_1 a_2 \\dots a_k \\land a_1 \\leq a_2 \\leq \\dots a_k \\}$\n",
    "\n",
    "Así, nuestra nueva complejidad sería $O(\\displaystyle\\sum_{k = 2}^{k = 7} \\displaystyle\\sum_{s_k^{*} \\in S_k ^{*}} \\text{# Permutaciones de } s_k^{*})$\n",
    "\n",
    "Hallar tal complejidad lo veremos en más detalle cuando estudiemos Combinatoria.\n",
    "\n",
    "Por ahora, como regla práctica podemos que con cada iteración las opciones de busqueda disminuyen en un número $t$ quedando así la complejidad $O(26 \\times (26 - t) \\times (26 - 2t) \\times \\dots \\times (26 - 6t)$ y con $t = 3$ podemos obtener una buena aproximación.\n",
    "\n",
    "Lo anterior, no es matemáticamente correcto. Sin embargo, en los concursos hay veces en las que se llega a algoritmos cuyas complejidades son laboriosas de hallar correctamente, por lo que, hallar aproximaciones o tener reglas prácticas suelen ser un buen recurso en esas situaciones. Pero, es mejor dejar esto como último recurso, siempre es preferible hallar la complejidad formalmente."
   ]
  },
  {
   "cell_type": "markdown",
   "metadata": {},
   "source": [
    "Para generar esos conjuntos de palabras nos damos cuenta que nos podemos apoyar en el paradigma de **Búsqueda completa** que hemos aprendido.\n",
    "\n",
    "Es decir, se nos ocurre que podriamos utilizar alguno de estos temas:\n",
    "* Fuerza bruta\n",
    "* Bitmask\n",
    "* Recursión"
   ]
  },
  {
   "cell_type": "markdown",
   "metadata": {},
   "source": [
    "## Fuerza bruta\n",
    "\n",
    "Con toda la explicación anterior podemos hacer el siguiente código:"
   ]
  },
  {
   "cell_type": "markdown",
   "metadata": {},
   "source": [
    "```c++\n",
    "#include <bits/stdc++.h>\n",
    "\n",
    "using namespace std;\n",
    "\n",
    "vector <string> ans;\n",
    "\n",
    "int sum(string s) {\n",
    "    int ret = 0;\n",
    "    for (char ch : s) ret += ch - 'a' + 1;\n",
    "    return ret;\n",
    "}\n",
    "\n",
    "void generate(string s) {\n",
    "    do {\n",
    "        ans.push_back(s);\n",
    "    } while (next_permutation(begin(s), end(s)));\n",
    "}\n",
    "\n",
    "int main() {\n",
    "    string s = \"\";\n",
    "    for (char ch_1 = 'a'; ch_1 <= 'z'; ch_1++) {\n",
    "        s += ch_1;\n",
    "        for (char ch_2 = ch_1; ch_2 <= 'z'; ch_2++) {\n",
    "            s += ch_2;\n",
    "            if (sum(s) == 42) generate(s);\n",
    "            if (sum(s) < 42) {\n",
    "                for (char ch_3 = ch_2; ch_3 <= 'z'; ch_3++) {\n",
    "                    s += ch_3;\n",
    "                    if (sum(s) == 42) generate(s);\n",
    "                    if (sum(s) < 42) {\n",
    "                        for (char ch_4 = ch_3; ch_4 <= 'z'; ch_4++) {\n",
    "                            s += ch_4;\n",
    "                            if (sum(s) == 42) generate(s);\n",
    "                            if (sum(s) < 42) {\n",
    "                                for (char ch_5 = ch_4; ch_5 <= 'z'; ch_5++) {\n",
    "                                    s += ch_5;\n",
    "                                    if (sum(s) == 42) generate(s);\n",
    "                                    if (sum(s) < 42) {\n",
    "                                    \tfor (char ch_6 = ch_5; ch_6 <= 'z'; ch_6++) {\n",
    "                                    \t\ts += ch_6;\n",
    "                                    \t\tif (sum(s) == 42) generate(s);\n",
    "                                    \t\tif (sum(s) < 42) {\n",
    "                                    \t\t\tfor (char ch_7 = ch_6; ch_7 <= 'z'; ch_7++) {\n",
    "                                    \t\t\t\ts += ch_7;\n",
    "                                    \t\t\t\tif (sum(s) == 42) generate(s);\n",
    "                                    \t\t\t\ts.pop_back();\n",
    "                                    \t\t\t}\n",
    "                                    \t\t}\n",
    "                                    \t\ts.pop_back();\n",
    "                                    \t}\n",
    "                                    }\n",
    "                                    s.pop_back();\n",
    "                                }\n",
    "                            }\n",
    "                            s.pop_back();\n",
    "                        }\n",
    "                    }\n",
    "                    s.pop_back();\n",
    "                }\n",
    "            }\n",
    "            s.pop_back();\n",
    "        }\n",
    "        s.pop_back();\n",
    "    }\n",
    "    sort(begin(ans), end(ans));\n",
    "\tfor (string ans_i : ans) cout << ans_i << endl;\n",
    "    return (0);\n",
    "}\n",
    "```"
   ]
  },
  {
   "cell_type": "markdown",
   "metadata": {},
   "source": [
    "Sin embargo, el código anterior tiene muchos puntos malos. Por ejemplo, qué pasa si se quiere resolver el mismo problema pero que ahora las palabras sumen un número distinto a 42 o que el tamaño máximo de las palabras permitidas sea distinto. Además, poner tantos fors anidados no se ven muy bien y es fácil equivocarnos dentro de algun for y es dificil detectar donde nos equivocamos."
   ]
  },
  {
   "cell_type": "markdown",
   "metadata": {},
   "source": [
    "![Hadouken](./pictures/hadouken.jpg 'Hadouken')"
   ]
  },
  {
   "cell_type": "markdown",
   "metadata": {},
   "source": [
    "## Bitmask\n",
    "\n",
    "Con bitmask se nos ocurre que podriamos tener una mascara que nos indique que letras utilizar y por cada máscara con como máximo 7 letras generar todos los posibles $s_k^{*}$ a partir de los cuales podriamos usar *next_permutation*. Sin embargo eso solo haría más complicado el código y ademas necesitariamos recorrer los $2 ^ {26} = O(10 ^ 8)$ máscaras. Por lo que descartamos este enfoque."
   ]
  },
  {
   "cell_type": "markdown",
   "metadata": {},
   "source": [
    "## Recursión\n",
    "\n",
    "![Recursion](./pictures/recursive.jpg 'Recursion')"
   ]
  },
  {
   "cell_type": "markdown",
   "metadata": {},
   "source": [
    "Tal y como aprendimos en el anterior tema **Recursión**, recordamos que para definir una solución recursiva necesitamos:\n",
    "    \n",
    "* Definir el estado que representa nuestro problema\n",
    "* Definir los estados iniciales y finales\n",
    "* Definir a que estados puedo ir desde un estado arbitrario\n",
    "\n",
    "Con ello en consideración podemos obtener la siguiente solución."
   ]
  },
  {
   "cell_type": "markdown",
   "metadata": {},
   "source": [
    "```c++\n",
    "#include <bits/stdc++.h>\n",
    "\n",
    "using namespace std;\n",
    "\n",
    "const int SUM = 42, MAX_LEN = 7;\n",
    "\n",
    "int sum;\n",
    "string word;\n",
    "vector <string> ans;\n",
    "\n",
    "void backtracking(char ch = 'a') {\n",
    "    if (sum > SUM) return;\n",
    "    if (sum == SUM and word.size() <= MAX_LEN) {\n",
    "        do {\n",
    "            ans.push_back(word);\n",
    "        } while(next_permutation(begin(word), end(word)));\n",
    "    }\n",
    "    for (char nch = ch; nch <= 'z'; nch++) {\n",
    "        sum += nch - 'a' + 1;\n",
    "        word.push_back(nch);\n",
    "        backtracking(nch);\n",
    "        word.pop_back();\n",
    "        sum -= nch - 'a' + 1;\n",
    "    }\n",
    "}\n",
    "\n",
    "int main() {\n",
    "    backtracking();\n",
    "    sort(begin(ans), end(ans));\n",
    "    for (string ans_i : ans) cout << ans_i << endl;\n",
    "    return (0);\n",
    "}\n",
    "\n",
    "```"
   ]
  },
  {
   "cell_type": "markdown",
   "metadata": {},
   "source": [
    "### Observaciones\n",
    "* El uso de variables globales no es una práctica recomendada. Sin embargo, en programación competitiva, ya se ha vuelto una práctica muy común y al ser códigos cortos, de un solo archivo y codeados por una sola persona, el uso de variables globales no suele tener un mal impacto.\n",
    "* Notemos que el estado de la recursión se define por (char ch, string word, int sum, vector <string>& ans); sin embargo, gracias al uso de variables globales solo usado (char ch).\n",
    "* Observemos como este última solución es más fácil de entender que la primera. Además, esta solución es más flexible a cambios, optimizaciones y más.\n",
    "\n",
    "Para entender mejor como funciona el código anterior analicemos el árbol de recursión que genera el problema anteior (Se explicará esto en la pizarra)"
   ]
  },
  {
   "cell_type": "markdown",
   "metadata": {},
   "source": [
    "## \"Definición\"\n",
    "\n",
    "Con el problema anterior nos dimos cuenta del enorme poder que tiene la recursión. Ahora, con el problema anterior y con lo aprendido en la clase anterior podemos decir que, en general hay 2 tipos de recursiones:\n",
    "\n",
    "* La primmera es aquella en la que a partir de un estado *s* sabemos exactamente hacia que otros estados (*s'*) debemos ir para encontrar alguna respuesta que buscamos.\n",
    "* La segunda es aquella en la que a partir de un estado *s* sabemos hacia que estados (*s'*) podemos ir, pero no sabemos a cual de ellos deberiamos ir asi que intentamos ir a todos. A este tipo de recursión llamamos *backtracking* y este es el tema que aprenderemos hoy.\n",
    "\n",
    "Al ser la primera vez que vemos backtracking nos centraremos más en la practica y menos en la teoría. Ilustraremos el uso de esta técnica mediante 3 problemas más:"
   ]
  },
  {
   "cell_type": "markdown",
   "metadata": {},
   "source": [
    "##  Subset sum problem"
   ]
  },
  {
   "cell_type": "markdown",
   "metadata": {},
   "source": [
    "## N-queen problem"
   ]
  },
  {
   "cell_type": "markdown",
   "metadata": {},
   "source": [
    "## Encontrando el patrón de acceso"
   ]
  },
  {
   "cell_type": "markdown",
   "metadata": {},
   "source": [
    "Bibliografía:\n",
    "* [Algorithms Jeff](http://jeffe.cs.illinois.edu/teaching/algorithms/notes/03-backtracking.pdf 'Algorithms')"
   ]
  }
 ],
 "metadata": {
  "kernelspec": {
   "display_name": "Python 3",
   "language": "python",
   "name": "python3"
  },
  "language_info": {
   "codemirror_mode": {
    "name": "ipython",
    "version": 3
   },
   "file_extension": ".py",
   "mimetype": "text/x-python",
   "name": "python",
   "nbconvert_exporter": "python",
   "pygments_lexer": "ipython3",
   "version": "3.6.3"
  }
 },
 "nbformat": 4,
 "nbformat_minor": 2
}
