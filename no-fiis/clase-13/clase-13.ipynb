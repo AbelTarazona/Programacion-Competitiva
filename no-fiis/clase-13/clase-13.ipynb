{
 "cells": [
  {
   "cell_type": "markdown",
   "metadata": {},
   "source": [
    "# [Teoría de números 1](nbviewer.jupyter.org/github/PCUNI/Programacion-Competitiva/blob/master/no-fiis/clase-13/clase-13.ipynb 'nbviewer')\n",
    "\n",
    "![1](./pictures/4nhk.jpg)\n",
    "\n",
    "## Ecuaciones modulares\n",
    "\n",
    "#### La ecuacion $P(x) = k n$, sobre los los enteros,  nos dice que el polinomio P es multiplo de n, para todo x entero, esta ecuacion la rescribiremos como:\n",
    "\n",
    "$$P(x) \\equiv 0 ~(mod ~n)$$ \n",
    "\n",
    "#### siguiente la misma lógica podemos extender la ecuación: $P(x) = Q(x) + k n$ como:\n",
    "\n",
    "$$P(x) \\equiv Q(x) ~(mod ~n)$$\n",
    "\n",
    "#### esto define una relacion de equivalencia, además si:\n",
    "\n",
    "$$ P(x) \\equiv p(x) ~(mod ~n)$$\n",
    "$$ Q(x) \\equiv q(x) ~(mod ~n)$$\n",
    "\n",
    "### entonces:\n",
    "\n",
    "$$ P + Q(x) \\equiv p + q(x) ~(mod ~n)$$ y\n",
    "$$ P . Q (x) \\equiv p.q (x) ~(mod ~n)$$\n"
   ]
  },
  {
   "cell_type": "code",
   "execution_count": 3,
   "metadata": {},
   "outputs": [
    {
     "name": "stdout",
     "output_type": "stream",
     "text": [
      "x + y == (25 + 32)%4\n",
      "x * y == (25 * 32)%4\n"
     ]
    }
   ],
   "source": [
    "x = 25 % 4\n",
    "y = 32 % 4\n",
    "\n",
    "if x + y == (25 + 32) % 4:\n",
    "    print (f'x + y == (25 + 32)%4')\n",
    "    \n",
    "if x * y == (25 * 32) % 4:\n",
    "    print (f'x * y == (25 * 32)%4')\n"
   ]
  },
  {
   "cell_type": "markdown",
   "metadata": {},
   "source": [
    "### Ejemplo de uso:\n",
    "\n",
    "#### dados $1 \\leq a, b, c \\leq 10^{18}$, calcular $a^b ~(mod ~c)$   "
   ]
  },
  {
   "cell_type": "code",
   "execution_count": 2,
   "metadata": {},
   "outputs": [
    {
     "name": "stdout",
     "output_type": "stream",
     "text": [
      "99999999 99999999 19999999\n",
      "a^b (mod c) = 262144\n",
      "elapsed :  13.076308488845825 seconds\n"
     ]
    }
   ],
   "source": [
    "# brute force approach (TLE)\n",
    "from time import time\n",
    "\n",
    "a, b, c = map(int, input().split())\n",
    "\n",
    "start = time ()\n",
    "\n",
    "ans = 1\n",
    "for _ in range (b):\n",
    "    ans = (ans * a) % c\n",
    "    \n",
    "end = time ()\n",
    "    \n",
    "print ('a^b (mod c) =', ans)\n",
    "print ('elapsed : ', end - start, 'seconds')"
   ]
  },
  {
   "cell_type": "code",
   "execution_count": 1,
   "metadata": {},
   "outputs": [
    {
     "name": "stdout",
     "output_type": "stream",
     "text": [
      "999999999999999999 999999999999999999 1000000000000000000\n",
      "a^b (mod c) = 999999999999999999\n",
      "elapsed :  0.00034427642822265625 seconds\n"
     ]
    }
   ],
   "source": [
    "# divide and conquer approach (WA in C++)\n",
    "from time import time\n",
    "\n",
    "a, b, c = map (int, input().split())\n",
    "\n",
    "start = time ()\n",
    "\n",
    "ans = 1\n",
    "while b > 0:\n",
    "    if b & 1: ans = (ans * a) % c\n",
    "    a = (a * a) % c\n",
    "    b >>= 1\n",
    "\n",
    "end = time ()\n",
    "\n",
    "print ('a^b (mod c) =', ans)\n",
    "print ('elapsed : ', end - start, 'seconds')"
   ]
  },
  {
   "cell_type": "code",
   "execution_count": 4,
   "metadata": {},
   "outputs": [
    {
     "name": "stdout",
     "output_type": "stream",
     "text": [
      "93845930495849303 784394739203849320 1000000000000000002\n",
      "a^b (mod c) = 737847788270545081\n",
      "elapsed :  0.0030167102813720703 seconds\n"
     ]
    }
   ],
   "source": [
    "# divide and conquer approach (AC in C++)\n",
    "from time import time\n",
    "\n",
    "a, b, c = map (int, input().split())\n",
    "\n",
    "def mul (a, b, c):\n",
    "    ans = 0\n",
    "    while b > 0:\n",
    "        if b&1: ans = (ans + a) % c \n",
    "        a = (a + a)%c\n",
    "        b >>= 1\n",
    "    return ans\n",
    "\n",
    "\n",
    "\n",
    "start = time ()\n",
    "\n",
    "ans = 1\n",
    "while b > 0:\n",
    "    if b & 1: ans = mul (a, ans, c)\n",
    "    a = mul (a, a, c)\n",
    "    b >>= 1\n",
    "\n",
    "end = time ()\n",
    "\n",
    "print ('a^b (mod c) =', ans)\n",
    "print ('elapsed : ', end - start, 'seconds')"
   ]
  },
  {
   "cell_type": "markdown",
   "metadata": {
    "collapsed": true
   },
   "source": [
    "### Máximo común divisor\n",
    "\n",
    "#### sabemos como funciona el gcd, es algo así:\n",
    "$$a = q_1 b + c_1$$\n",
    "$$b = q_2 c_1 + c_2$$\n",
    "$$\\vdots$$\n",
    "$$c_{k-1} = q_{k+1} c_k + c_{k+1}$$\n",
    "$$c_k = 1 x 0 + mcd $$\n",
    "\n",
    "donde $c_i < c_{i-1}$ "
   ]
  },
  {
   "cell_type": "code",
   "execution_count": 1,
   "metadata": {},
   "outputs": [
    {
     "name": "stdout",
     "output_type": "stream",
     "text": [
      "102 42\n",
      "greatest common divisor: 6\n"
     ]
    }
   ],
   "source": [
    "# codigo gcd\n",
    "\n",
    "def gcd (a, b):\n",
    "    if b == 0: return a\n",
    "    return gcd (b, a % b)\n",
    "\n",
    "n, m = map (int, input().split())\n",
    "print ('greatest common divisor:', gcd(n, m))"
   ]
  },
  {
   "cell_type": "markdown",
   "metadata": {
    "collapsed": true
   },
   "source": [
    "#### Ahora hablemos de la complejidad... Fijemonos en las dos primeras filas en el algoritmo de euclides, y reemplacemos b de la segunda ecuación en la primera ecuación: \n",
    "$$a = q_1 (q_2 c_1 + c_2) + c1$$ \n",
    "$$a = (q_1 q_2 + 1) c_1 + q_1 c_2$$\n",
    "#### y es facil ver que si aun no hemos lleguado a la solucion $q_1$ y $q_2$ son distintos de $0$, lo cual nos dice $a \\geq 2  c_1$, lo que nos da una cota muy buena $k = O(log (n))$ \n",
    "\n"
   ]
  },
  {
   "cell_type": "markdown",
   "metadata": {
    "collapsed": true
   },
   "source": [
    "### Ejemplo de uso:\n",
    "\n",
    "Hallar $\\sum_{i=l}^{r} \\lfloor \\frac{a i + c}{b} \\rfloor ~(mod ~m)$ con, $1 \\leq a, ~b, ~c, ~l, ~r, ~m \\leq 10^{9}$ \n",
    "\n",
    "![2](./pictures/1nhk.jpg)\n"
   ]
  },
  {
   "cell_type": "code",
   "execution_count": 14,
   "metadata": {},
   "outputs": [
    {
     "name": "stdout",
     "output_type": "stream",
     "text": [
      "1 5 1 4 5 100\n",
      "2\n"
     ]
    }
   ],
   "source": [
    "def evalFloor (a, b, c, i):\n",
    "    return (a * i + c) // b\n",
    "\n",
    "def sol (a, b, c, l, r, m):\n",
    "    if l > r: return 0\n",
    "    if a == 0: return c//b * (r - l + 1)\n",
    "    if evalFloor(a, b, c, l) == evalFloor(a, b, c, r): return (r - l + 1) * evalFloor(a, b, c, l)\n",
    "    if a > b: return (a//b * (r * (r+1)//2 - l * (l-1)//2) % m + sol (a%b, b, c, l, r, m)) % m\n",
    "    \n",
    "    fL = evalFloor(a, b, c, l)\n",
    "    fR = evalFloor(a, b, c, r)\n",
    "    \n",
    "    return (fR * (r + 1) % m + (m - fL * l % m) + (m - sol (b, a, a - c - 1, fL + 1, fR, m))) % m\n",
    "            \n",
    "a, b, c, l, r, m = map(int, input().split())\n",
    "print (sol (a, b, c, l, r, m))"
   ]
  },
  {
   "cell_type": "markdown",
   "metadata": {
    "collapsed": true
   },
   "source": [
    "#### Explicación de la solución:\n",
    "\n",
    "#### En primer lugar, esta aplicación solo usa la prueba de la complejidad, que quiere decir: si tienes una función $f(a, b) = O(1) + g (f (b, a ~mod b))$ y $g$ se puede evaluar en $O(1)$, entonces $f(a, b)$ se puede hallar en $O(log (max(a, b)))$,\n",
    "\n",
    "#### primero denotemos $f (a, b) = sol (a, b, c, l, r, m)$, como podemos darnos cuenta si $a > b$ podemos hacer igualarlo a un $O(1) + f (b, a ~mod ~b)$ que no es exactamente lo que queriamos pero si luego de eso $a$ hace swap con $b$, entonces conseguiriamos lo buscamos.\n",
    "\n",
    "#### Para ver la primera observación, basta con separar $a = q b + (a ~mod ~b)$, luego $q$ sale de la función floor y es fácil de calcular, lo siguiente es, cómo resolver el caso $a < b$, primero definamos $g (x) = \\lfloor \\frac{a x + c}{b} \\rfloor$, y notemos que $g (x)$ es no decreciente, luego podemos hacer la siguiente transformación: $$ \\sum_{v = g(l)}^{g(r)} v \\sum_{i = l}^{r} [g(i) == v]$$\n",
    "\n",
    "#### La segunda sumatoria la podemos ver como un conteo y podemos entenderla como: $$\\sum_{v = g(l)}^{g(r)} v ~. cnt[ v ]$$\n",
    "\n",
    "#### y para hallar $cnt [ v ]$ solo basta hallar los valore de $g(i) == v$ e inteceptarlo con el rango $[l, r]$:\n",
    "$$\\lfloor \\frac{a i + c}{b} \\rfloor == v$$\n",
    "$$v \\leq \\frac{a i + c}{b} < v + 1$$\n",
    "$$\\frac{v b - c}{a} \\leq i < \\frac{(v + 1) b - c}{a}$$\n",
    "#### como $i$ es entero:\n",
    "$$\\lceil \\frac{v b - c}{a} \\rceil \\leq i < \\lceil \\frac{(v + 1) b - c}{a} \\rceil$$\n",
    "#### luego si $v$ no es $g(l)$ o $g(r)$, y dado que $v$ no decrece tenemos:\n",
    "$$cnt [ v ] = \\lceil \\frac{(v + 1) b - c}{a} \\rceil - \\lceil \\frac{v b - c}{a} \\rceil$$\n",
    "#### si $v = g(l)$ y no es $g(r)$, tenemos:\n",
    "$$cnt [ v ] = \\lceil \\frac{(v + 1) b - c}{a} \\rceil - l$$\n",
    "#### y si $v = g(r)$ y no $g(l)$, tenemos:\n",
    "$$cnt [ v ] = r + 1 - \\lceil \\frac{v b - c}{a} \\rceil$$\n",
    "#### luego nuestra suma podemos reemplazarla por:\n",
    "$$g(r) ~. (r + 1) - g(l) ~. l + \\sum_{v = g(l)}^{g(r) - 1} v ~. \\lceil \\frac{(v + 1) b - c}{a} \\rceil - \\sum_{v = g(l) + 1}^{g(r)} v ~. \\lceil \\frac{v b - c}{a} \\rceil$$\n",
    "#### cambiando $v$ por $v + 1$ ($v$  por $t$, $t$ por $v+1$), en la primea sumatoria, tenemos:\n",
    "$$g(r) ~. (r + 1) - g(l) ~. l + \\sum_{v = g(l)+1}^{g(r)} (v - 1) ~. \\lceil \\frac{v b - c}{a} \\rceil - \\sum_{v = g(l) + 1}^{g(r)} v ~. \\lceil \\frac{v b - c}{a} \\rceil$$\n",
    "#### simplificando:\n",
    "$$g(r) ~. (r + 1) - g(l) ~. l - \\sum_{v = g(l)+1}^{g(r)} \\lceil \\frac{v b - c}{a} \\rceil$$\n",
    "#### en que ayuda esto? Nosotros buscabamos que $a$ y $b$ se intercambiasen y es justo lo que tenemos!, solo falta cambiar ceil por floor\n",
    "$$g(r) ~. (r + 1) - g(l) ~. l - \\sum_{v = g(l)+1}^{g(r)} \\lfloor \\frac{v b - c + a - 1}{a} \\rfloor$$\n",
    "#### ahora tenga en cuenta que los parametros $c$, $l$, $r$, $m$ no juegan un roll importante en la complejidad, luego nos queda en terminos generales, para el caso $a < b$:\n",
    "$$f(a, b) = g(r) ~. (r + 1) - g(l) ~. l - f(b, a)$$"
   ]
  },
  {
   "cell_type": "markdown",
   "metadata": {
    "collapsed": true
   },
   "source": [
    "## Principio de inclusión - exclusión (EIP):\n",
    "\n",
    "![3](./pictures/2nhk.jpg)\n",
    "\n",
    "#### El principio de inclusión - exclusión nos da una forma de contar excata y exhaustiva para aquellos problemas que abarcan unión de conjuntos y cuando no es complejo hallar la intersección de ellos, esta es una técnica muy útil y servirá mucho en problemas que abarquen teoría de números.\n",
    "\n",
    "#### El principio de inclusión - exlusión se puede expresar de forma extensa así:\n",
    "$$ | A_1 \\cup A_2 \\cup ... \\cup A_n | = \\sum_{i=1}^{n} |A_i| - \\sum_{i < j}|A_i \\cap A_j| + ... + (-1)^{n+1} \\bigcap_{i=1}^{n} |A_i|$$"
   ]
  },
  {
   "cell_type": "code",
   "execution_count": 10,
   "metadata": {},
   "outputs": [
    {
     "name": "stdout",
     "output_type": "stream",
     "text": [
      "3\n",
      "4\n",
      "1 2 3 4\n",
      "3\n",
      "3 4 5\n",
      "2\n",
      "5 6\n",
      "21\n"
     ]
    }
   ],
   "source": [
    "### codigo tipo de inclusion exclusion:\n",
    "\n",
    "def intersec (A1_i, A):\n",
    "    return [val for val in A1_i if val in set(A)]\n",
    "\n",
    "n = int(input())\n",
    "\n",
    "A = []\n",
    "for i in range(n):\n",
    "    m = int(input())\n",
    "    A.append (list(map(int, input().split())))\n",
    "    \n",
    "        \n",
    "Sum = 0\n",
    "for mask in range (1<<n):\n",
    "        Cap = []\n",
    "        ok = 1\n",
    "        for i in range(n):\n",
    "            if (mask>>i) & 1:\n",
    "                if ok == 1:\n",
    "                    Cap = A[i]\n",
    "                    ok = 0\n",
    "                else:\n",
    "                    Cap = intersec (Cap, A[i])\n",
    "        \n",
    "        if bin(mask).count('1') & 1:\n",
    "            Sum += sum(Cap)\n",
    "        else:\n",
    "            Sum -= sum(Cap)\n",
    "        \n",
    "print (Sum)"
   ]
  },
  {
   "cell_type": "markdown",
   "metadata": {},
   "source": [
    "### Ejemplo de uso:\n",
    "\n",
    "#### dado $n$ rangos $[l_i, r_i]$, $1 \\leq i \\leq n \\leq 20$, $-10^9 \\leq l_i \\leq r_i \\leq 10^9$, y $C \\leq 10^{18}$, calcular de cuantas formas se pueden elegir enteros en los $n$ rangos tal que la suma sea menor o igual a $C$. Imprimir la respuesta $mod ~10^9 + 7$ "
   ]
  },
  {
   "cell_type": "code",
   "execution_count": null,
   "metadata": {
    "collapsed": true
   },
   "outputs": [],
   "source": [
    "MOD = 1000000007\n",
    "\n",
    "n, c = map(int, input().split())\n",
    "l = list(map(int, input().split()))\n",
    "r = list(map(int, input().split()))\n",
    "\n",
    "r -= l\n",
    "c -= sum(l)\n",
    "\n",
    "def ex (a, b, mod):\n",
    "    r = 1\n",
    "    while b > 0:\n",
    "        if b&1: r = r * a % mod\n",
    "        a = a * a % mod\n",
    "        b >>= 1\n",
    "    return r\n",
    "\n",
    "def comb (n, m, mod):\n",
    "    \n",
    "    num = 1\n",
    "    for i in range(m):\n",
    "        num = num * (n - i) % mod\n",
    "    \n",
    "    den = 1\n",
    "    for i in range(m):\n",
    "        num = num * (i + 1) % mod\n",
    "    \n",
    "    return num * ex(den, mod-2, mod) % mod\n",
    "    \n",
    "Sum = 0\n",
    "for mask in range(1<<n):\n",
    "    nC = 1*C\n",
    "    \n",
    "    for i in range(n):\n",
    "        if mask & i:\n",
    "            nC -= r[i] + 1\n",
    "            \n",
    "    if nC < 0: continue\n",
    "    else if bin(mask).count('1')&1:\n",
    "        Sum -= comb(nC + n - 1, n - 1, MOD)\n",
    "    else:\n",
    "        Sum += comb(nC + n - 1, n - 1, MOD)\n",
    "\n",
    "print (Sum)"
   ]
  },
  {
   "cell_type": "markdown",
   "metadata": {},
   "source": [
    "### Explicación de la solución:\n",
    "\n",
    "#### inversa modular: se define la inversa modular de $a$ respecto al modulo $p$, con $gcd(a, p) == 1$, al número $b$ menor a $p$ que cumple $a ~. b \\equiv 1 ~(mod ~p)$ (pruebe la existencia de b)\n",
    "\n",
    "#### Pequeño teorema de fermat: si $p$ es un número primo, entonces, para todo $a$ natural menor a $p$, se cumple: $a^{p-1} \\equiv 1 ~(mod ~p)$  (probar esto, use el hecho: $\\lbrace1, 2, ..., p-1\\rbrace == a ~. \\lbrace1, 2, ..., p-1\\rbrace$)\n",
    "\n",
    "#### El problema no es simple de tratar de forma directa, para ello definiremos los conjuntos $P_i$ : \"soluciones que cumplan la restricción i\" y supongamos $l_i = 0$ y diremos soluciones si todo entero a elegir es positivo, ahora nuestro problema se reduce a $$|\\bigcap_{i=1}^{n} P_i|$$\n",
    "\n",
    "#### y como lo pasamos a un problema de IEP? pues la _ley de Morgan_ nos ayuda, lo cual nos da el siguiente nuevo problema: $$U - |\\bigcup_{i=1}^{n} P_i^c|$$\n",
    "\n",
    "#### luego decir que no se cumple la restriccion $i$ en la solución, y si replanteamos el problema para todo entero no negativo, quiere decir que el entero $i$-ésimo debe ser mayor a $r_i$, y podemos volver el problema otra vez a entero no negativo restando $r_i + 1$ al valor de $C$. De la misma forma se puede hacer para el problema inicial para que todo $l_i$ sea $0$."
   ]
  },
  {
   "cell_type": "markdown",
   "metadata": {},
   "source": [
    "## función $\\varphi$\n",
    "\n",
    "![4](./pictures/3nhk.jpg)\n",
    "\n",
    "#### La función $\\varphi$ de $n$ se define como la cantidad de elementos menores a $n$ son pesi con $n$, de la misma forma que se demuestra el pequeño teorema de fermat se puede probar: $a ^ {\\varphi (n)} \\equiv 1 ~(mod ~n)$, para todo $a$ pesi con $n$ .\n",
    "\n",
    "#### Se puede hallar $\\varphi (n)$ sabiendo cuales son los divisores primos de n y usando EIP, pero se puede probar que $\\varphi (n) = n ~.\\Pi_{i=1}^{k} (1 - \\frac{1}{p_i}) $ con $\\lbrace p_1, ~\\dots, ~p_k \\rbrace$ todos los divisores primos de n. \n"
   ]
  },
  {
   "cell_type": "code",
   "execution_count": null,
   "metadata": {
    "collapsed": true
   },
   "outputs": [],
   "source": [
    "# Codigo para hallar phi\n",
    "\n",
    "n = int(input())\n",
    "i = 2\n",
    "phi = n\n",
    "while i * i <= n:\n",
    "    if n % i == 0:\n",
    "        p = i\n",
    "        while n % p == 0:\n",
    "            n /= p\n",
    "        phi -= phi / p\n",
    "    i += 1\n",
    "\n",
    "if n != 1:\n",
    "    phi -= phi / n\n",
    "\n",
    "print (phi)"
   ]
  },
  {
   "cell_type": "markdown",
   "metadata": {},
   "source": [
    "## Criba de Eratóstenes\n",
    "\n",
    "![5](./pictures/5nhk.jpg)\n",
    "\n",
    "#### La idea de la criba de Eratóstenes nos va a servir para generar primos en un rango en un tiempo eficiente, la idea se basa en el simple hecho que un número es primo si no es divisible entre ningún primo menor a este. "
   ]
  },
  {
   "cell_type": "code",
   "execution_count": null,
   "metadata": {
    "collapsed": true
   },
   "outputs": [],
   "source": [
    "# criba 1 O(nloglogn)\n",
    "\n",
    "n = int(input())\n",
    "prime = [1] * (n+1)\n",
    "prime[0] = 0\n",
    "prime[0] = 0\n",
    "for i in range (2, n+1):\n",
    "    if prime[i] == 1:\n",
    "        for j in range(2*i, n+1, i):\n",
    "            prime[j] = 0\n",
    "\n",
    "for i in range (1, 100):\n",
    "    if prime[i] == 1:\n",
    "        print (i, sep=' ')"
   ]
  },
  {
   "cell_type": "markdown",
   "metadata": {},
   "source": [
    "#### se puede mejorar la idea, no significativamente el tiempo de ejecución pero, podriamos considerar que un número es primo si no es divisible por todo número menor o igual a la raiz cuadrada de este. "
   ]
  },
  {
   "cell_type": "code",
   "execution_count": null,
   "metadata": {
    "collapsed": true
   },
   "outputs": [],
   "source": [
    "# criba 1 O(nloglogn), en practica ~ O(6n)\n",
    "\n",
    "n = int(input())\n",
    "prime = [1] * (n+1)\n",
    "prime[0] = 0\n",
    "prime[0] = 0\n",
    "for i in range (2, n+1):\n",
    "    if prime[i] == 1:\n",
    "        for j in range(i*i, n+1, i):\n",
    "            prime[j] = 0\n",
    "\n",
    "for i in range (1, 100):\n",
    "    if prime[i] == 1:\n",
    "        print (i, sep=' ')"
   ]
  },
  {
   "cell_type": "markdown",
   "metadata": {},
   "source": [
    "### factorización\n",
    "\n",
    "![6](./pictures/6nhk.jpg)\n",
    "\n",
    "#### Para factorización, podemos revisar todos los primos que dividen un número en $O(sqrt(n))$, si generamos la criba hasta $sqrt(n)$, y guardando los primos, podemos hacer lo mismo en $O(\\frac{sqrt(n)}{log(n)})$, como último podemos fijarnos que en nuestra criba podemos guardar algún número primo que divide a $n$, entonces luego le puedo ir quitando primo a primo $O(log(n))$"
   ]
  },
  {
   "cell_type": "code",
   "execution_count": null,
   "metadata": {
    "collapsed": true
   },
   "outputs": [],
   "source": [
    "#factorizacion 1\n",
    "\n",
    "n = int(input())\n",
    "\n",
    "factors = []\n",
    "i = 2\n",
    "while i * i <= n:\n",
    "    if n % i == 0:\n",
    "        p = i\n",
    "        while n % p == 0:\n",
    "            n /= p\n",
    "        factors.append(p)\n",
    "    i += 1\n",
    "    \n",
    "if n > 1:\n",
    "    factors.append(n)\n",
    "\n",
    "print (factors)"
   ]
  },
  {
   "cell_type": "code",
   "execution_count": null,
   "metadata": {
    "collapsed": true
   },
   "outputs": [],
   "source": [
    "#factorizacion 2:\n",
    "\n",
    "n = int(input())\n",
    "\n",
    "primes = sieve(int(sqrt(n)) + 1)\n",
    "\n",
    "factors = []\n",
    "\n",
    "for p in primes:\n",
    "    if p * p > n:\n",
    "        break\n",
    "    if n % p == 0:\n",
    "        while n % p == 0:\n",
    "            n //= p\n",
    "        factors.append(p)\n",
    "    \n",
    "if n > 1:\n",
    "    factors.append(n)\n",
    "\n",
    "print (factors)"
   ]
  },
  {
   "cell_type": "code",
   "execution_count": null,
   "metadata": {
    "collapsed": true
   },
   "outputs": [],
   "source": [
    "#factorizacion 3:\n",
    "\n",
    "n = int(input())\n",
    "anyDivisor = sieve(n)\n",
    "factors = []\n",
    "\n",
    "while anyDivisor[n] > 1:\n",
    "    p = anyDivisor[n]\n",
    "    while n % p == 0:\n",
    "        n //= p\n",
    "    factors.append(p)\n",
    "\n",
    "print(factors)"
   ]
  }
 ],
 "metadata": {
  "kernelspec": {
   "display_name": "Python 3",
   "language": "python",
   "name": "python3"
  },
  "language_info": {
   "codemirror_mode": {
    "name": "ipython",
    "version": 3
   },
   "file_extension": ".py",
   "mimetype": "text/x-python",
   "name": "python",
   "nbconvert_exporter": "python",
   "pygments_lexer": "ipython3",
   "version": "3.6.3"
  }
 },
 "nbformat": 4,
 "nbformat_minor": 2
}
