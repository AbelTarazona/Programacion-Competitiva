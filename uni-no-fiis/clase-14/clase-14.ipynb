{
 "cells": [
  {
   "cell_type": "markdown",
   "metadata": {},
   "source": [
    "# Teoría de Juegos Combinatorios"
   ]
  },
  {
   "cell_type": "markdown",
   "metadata": {},
   "source": [
    "# Objetivos"
   ]
  },
  {
   "cell_type": "markdown",
   "metadata": {},
   "source": [
    "# Introducción"
   ]
  },
  {
   "cell_type": "markdown",
   "metadata": {},
   "source": [
    "\"En teoría de juegos combinatorios estudiamos juegos de 2 jugadores con información perfecta sin movimientos aleatorios y con un resultado distinto de empate\" [1]\n",
    "\n",
    "En nuestro estudio veremos juegos donde el turno de los jugadores se alterna en cada jugada. Asi, estos juegos están determinados por:\n",
    "\n",
    "**(Conjuntos de posiciones, posición inicial, Conjunto de posiciones finales, Jugador que comienza, Función que determina los movimientos posibles para cada posición)**\n",
    "\n",
    "Ahora, si la función que determina los movimientos posibles para cada función depende de que jugador es su turno entonces estamos ante un *partizan game*, en caso contrario en un *impartial game*. Gráficamente:\n",
    "\n",
    "![](./pictures/games-clasification.jpg)\n"
   ]
  },
  {
   "cell_type": "markdown",
   "metadata": {},
   "source": [
    "Ahora, para todos los problemas que veremos a continuación consideren que cada jugador siempre hara 'el mejor movimiento posible' (esto último se entenderá mejor después de ver los ejemplos)"
   ]
  },
  {
   "cell_type": "markdown",
   "metadata": {},
   "source": [
    "# IMPARTIAL GAMES"
   ]
  },
  {
   "cell_type": "markdown",
   "metadata": {},
   "source": [
    "## WL states (Winning-Losing states)\n",
    "\n",
    "**PROBLEMA**\n",
    "Dos amigos (A y B) decidieron jugar un juego en el que el perdedor iria a comprar Pringles en Tambo. El juego tiene inicialmente una pila de `n` pringles. En cada turno un jugador debe comer 1, 2 o 3 pringles. El jugador que come las últimas pringles gana. Suponiendo que ambos jugadores juegan perfectamente y que A comienza. ¿Quién es el ganador?\n",
    "\n",
    "**Subtasks:**\n",
    "\n",
    "1. Resuelva el problema para n = 21\n",
    "2. Resuelva el problema $\\forall n \\geq 0$"
   ]
  },
  {
   "cell_type": "markdown",
   "metadata": {},
   "source": [
    "## Solución\n",
    "\n",
    "1. Nos damos cuenta que:  \n",
    "Sea:  \n",
    "W: Winning position for A  \n",
    "L: Losing position for A  \n",
    "Entonces, tenemos  \n",
    "- ans[0] = L: \"No hay nada que comer\"\n",
    "- ans[1] = W: \"Puedo comer 1 pringle y ganar\"\n",
    "- ans[2] = W: \"Puedo comer 2 pringles y ganar\"\n",
    "- ans[3] = W: \"Puedo comer 3 pringles y ganar\"\n",
    "- ans[4] = L: \"No importa si como 1, 2, 3 pringles, la cantidad que quedara llevará a la victoria de B\"\n",
    "- ans[5] = W: \"Puedo comer 1 pringle y poner a B en la situación que ocurria cuando habian 4 pringles\"\n",
    "- ans[6] = W: \"Analogo a lo anterior\"\n",
    "- ans[7] = W: \"Analogo a lo anterior\"\n",
    "- ans[8] = L: \"Analogo a lo que ocurrió con ans[4]\"\n",
    "- ans[9] = W\n",
    "- ans[10] = W\n",
    "- ans[11] = W\n",
    "- ans[12] = L\n",
    "- ans[13] = W\n",
    "- ans[14] = W\n",
    "- ans[15] = W\n",
    "- ans[16] = L\n",
    "- ans[17] = W\n",
    "- ans[18] = W\n",
    "- ans[19] = W\n",
    "- ans[20] = L\n",
    "- ans[21] = W\n",
    "\n",
    "Entonces, para N = 21 A gana :)\n",
    "\n",
    "2. Con lo anterior nos damos cuenta que A pierde $\\leftrightarrow n \\bmod 4 = 0$"
   ]
  },
  {
   "cell_type": "markdown",
   "metadata": {},
   "source": [
    "En el problema anterior, intuitivamente hemos desarrollado lo que llamaremos:\n",
    "    \n",
    "**Propiedad característica**\n",
    "1. Todas las posiciones finales son posiciones L\n",
    "2. Desde cada posición W hay almenos un movimiento a una posición L\n",
    "3. Cada movimiento desde una posición L es a una posición W"
   ]
  },
  {
   "cell_type": "markdown",
   "metadata": {},
   "source": [
    "**NOTA:** Todos los problemas que veamos hoy deberían tener en su enunciado algo como (\"Ambos jugadores juegan alternandose y optimamente\"), pero para evitar redundancia lo omitiré en los enunciados. \n",
    "\n",
    "**PROBLEMA: [10404 - Bachet's Game](https://uva.onlinejudge.org/index.php?option=com_onlinejudge&Itemid=8&category=24&page=show_problem&problem=1345)**\n",
    "\n",
    "Dado 2 jugadores (Stan y Ollie), una pila de `n` piedras y un conjunto de enteros $S = \\{s_1, s_2, \\dots, s_m\\}$. Si en cada turno un jugador puede retirar $s_k$ piedras (si $s_k \\in S \\quad \\land \\quad s_k \\leq $ piedras que quedan) y Stan comienza. ¿Quién ganará?\n",
    "\n",
    "**Entrada:** \n",
    "Número indefinido de líneas de la forma:  \n",
    "$n \\quad m \\quad s_1 \\quad s_2 \\quad s_3 \\quad \\dots \\quad s_m$\n",
    "\n",
    "**Salida:**  \n",
    "Por cada línea imprimir  \n",
    "\"[nombreDelGanador] wins\"  "
   ]
  },
  {
   "cell_type": "markdown",
   "metadata": {},
   "source": [
    "**SOLUCIÓN**\n",
    "\n",
    "```cpp\n",
    "#include <bits/stdc++.h>\n",
    "\n",
    "#define L_POS 1\n",
    "#define W_POS 2\n",
    "#define U_POS 3\n",
    "\n",
    "using namespace std;\n",
    "\n",
    "const int MAX_M = 12, MAX_N = 1e6 + 10;\n",
    "\n",
    "int n, m, s[MAX_M], dp[MAX_N];\n",
    "\n",
    "void print () {\n",
    "  puts(dp[n] == W_POS ? \"Stan wins\" : \"Ollie wins\");\n",
    "}\n",
    "\n",
    "bool isNposition (int id) {\n",
    "  bool ret = false;\n",
    "  for (int k = 0; k < m and not ret; k++) if (id - s[k] >= 0) ret |= dp[id - s[k]] == L_POS;\n",
    "  return ret;\n",
    "}\n",
    "\n",
    "void setWpositions (int id) {\n",
    "  for (int k = 0; k < m; k++) if (id + s[k] <= n) dp[id + s[k]] = W_POS;\n",
    "}\n",
    "\n",
    "void solve () {\n",
    "  dp[0] = L_POS;\n",
    "  setWpositions(0);\n",
    "  for (int id = 1; id <= n; id++) if (dp[id] == U_POS) dp[id] = isNposition(id) ? W_POS : L_POS;\n",
    "}\n",
    "\n",
    "void read () {\n",
    "  for (int i = 0; i < m; i++) scanf(\"%d\", s + i);    \n",
    "}\n",
    "\n",
    "void clear () {\n",
    "  fill(dp, dp + n + 1, U_POS);\n",
    "}\n",
    "\n",
    "int main () {\n",
    "  while (~scanf(\"%d %d\", &n, &m)) {\n",
    "    clear();\n",
    "    read();\n",
    "    solve();\n",
    "    print();\n",
    "  }\n",
    "  return (0);\n",
    "}\n",
    "\n",
    "```"
   ]
  },
  {
   "cell_type": "markdown",
   "metadata": {},
   "source": [
    "## Nim values"
   ]
  },
  {
   "cell_type": "markdown",
   "metadata": {},
   "source": [
    "## El juego de Nim\n",
    "\n",
    "Hay `n` pilas de piedras de tamaños $x_1, x_2, \\dots, x_n$. Ahora, en cada turno un jugador escoge una pila 1 debe quitar al menos 1 piedra y como maximo toda la pila. El jugador que quite la(s) últimas piedras gana."
   ]
  },
  {
   "cell_type": "markdown",
   "metadata": {},
   "source": [
    "### Teorema de Bouton:\n",
    "\n",
    "Sea:  \n",
    "L: conjunto de posiciones perdedoras  \n",
    "W: conjunto de posiciones ganadoras\n",
    "\n",
    "Tenemos:\n",
    "\n",
    "$(x_1, x_2, \\dots, x_n) \\in L \\leftrightarrow \\displaystyle \\bigoplus_{1 \\leq i \\leq n} x_i = 0$\n",
    "\n",
    "Nota: $\\oplus $ es el operator xor"
   ]
  },
  {
   "cell_type": "markdown",
   "metadata": {},
   "source": [
    "### Demostración:\n",
    "\n",
    "Usaremos la propiedad característica para demostrar el teorema.\n",
    "\n",
    "1. La unica posición final es $(0, 0, \\dots, 0) \\quad \\land \\quad \\displaystyle \\bigoplus 0 = 0$\n",
    "2. Sea $(x_1, x_2, \\dots, x_n) \\in W$ si escribimos los números por columnas en su representación binaria (completando con 0s a la izquierda de ser necesario para que todos las representaciones tengan el mismo tamaño) notamos que existe al menos una columna con una cantidad impar de 1s (pues $\\displaystyle \\bigoplus x_i \\not = 0$), luego si considero la columna más a la izquierda que cumple lo anteior, puede seleccionar un número que tenga un 1 en esa columna. Sea `p` el número escogido, ahora mi movimiento sera volver a `p` un número $p^{'} < p$. Entonces, $p^{'}$ lo formo de esta manera:   $p^{'}$ tendra 0 en su representación binaria en la columna escogida (y todas las que esten a la izquierda, si existen). Así, $p^{'} < p$, luego, para todas las columnas a la derecha puedo escoger poner un 1 o un 0 de tal manera que la cantidad de 1s en cada columna sea par. De esta forma, obtenga el estado $(x_1, x_2, \\dots, p^{'}, \\dots, x_n) \\mid \\bigoplus (x_1, x_2, \\dots, p^{'}, \\dots, x_n) = 0$, es decir, hemos alcanzado un estado que pertenece a `L`\n",
    "3. Sea $(x_1, x_3, \\dots, x_k, \\dots, x_n) \\in L$ Si pasamos al estado $x_k > x_{k^{'}} \\quad (x_1, x_3, \\dots, x_{k^{'}}, \\dots, x_n)$ entonces $\\bigoplus (x_1, x_3, \\dots, x_{k^{'}}, \\dots, x_n) \\not = 0$. Supongamos lo contrario, entonces\n",
    "\n",
    "$$\\bigoplus(x_1, x_3, \\dots, x_k, \\dots, x_n) = \\bigoplus(x_1, x_3, \\dots, x_{k^{'}}, \\dots, x_n)$$\n",
    "$$x_k = x_{k^{'}} (\\rightarrow \\gets)$$"
   ]
  },
  {
   "cell_type": "markdown",
   "metadata": {},
   "source": [
    "**PROBLEMA APLICATIVO DEL TEOREMA DE BOUTON: [10165 - Stone Game](https://uva.onlinejudge.org/index.php?option=com_onlinejudge&Itemid=8&category=24&page=show_problem&problem=1106)**\n",
    "\n",
    "El enunciado es el juego de Nim.\n",
    "\n",
    "**Entrada**  \n",
    "Recibiras un entero T, seguido de T casos  \n",
    "En cada caso recibiras un `n` seguido de numeros $x_1 \\quad x_2 \\quad \\dots \\quad x_n$\n",
    "\n",
    "**Salida**  \n",
    "Imprimir 'No' si $(x_1, \\dots, x_n) \\in L$, sino 'Yes'"
   ]
  },
  {
   "cell_type": "markdown",
   "metadata": {},
   "source": [
    "**SOLUCIÓN**\n",
    "\n",
    "```cpp\n",
    "#include <bits/stdc++.h>\n",
    "\n",
    "using namespace std;\n",
    "\n",
    "int main() {\n",
    "  int n;\n",
    "  while (scanf(\"%d\", &n), n) {\n",
    "    int xor_sum = 0;\n",
    "    for (int i = 0, x_i; i < n; i++) {\n",
    "      scanf(\"%d\", &x_i);\n",
    "      xor_sum ^= x_i;\n",
    "    }\n",
    "    puts(xor_sum == 0 ? \"No\" : \"Yes\");\n",
    "  }\n",
    "  return (0);\n",
    "}\n",
    "\n",
    "```"
   ]
  },
  {
   "cell_type": "markdown",
   "metadata": {},
   "source": [
    "Recomndación: Leer [[1] sección 2.5 - Misère Nim](http://www.math.ucla.edu/%7Etom/Game_Theory/comb.pdf)"
   ]
  },
  {
   "cell_type": "markdown",
   "metadata": {},
   "source": [
    "## EXTRA: Staircase Nim\n",
    "\n",
    "**Problema:** Se tiene una escalera con n escalones, en cada escalon hay cierta cantidad de monedas. Sea $(x_1, \\dots, x_n)$ la cantidad de monedas que hay en cada escalon. En cada turno un jugador debe escoger un escalon que contenga monedas y pasar al menos 1 y como maximo todas las monedas de ese escalon al siguiente escalon. Si las monedas son sacadas del escalon 1 son removidas del juego. El ganador es aquel que remueve las ultimas monedas del juego. ¿Cuales son las posiciones que pertenecen a L?\n",
    "\n",
    "**Afirmo:**\n",
    "\n",
    "$$(x_1, x_2, \\dots, x_n) \\in L \\leftrightarrow \\bigoplus (x_1, x_3, x_5, x_7, \\dots x_{n - [n \\bmod 2 = 0]}) = 0$$\n",
    "\n",
    "Donde:\n",
    "\n",
    "[`exp`] = 1 si se cumple `exp`, 0 en otro caso\n",
    "\n",
    "Puedes intentar demostrar la afirmación anterior de manera similar al teorema de Bouton. Si te rindes puedes chequear este [link](https://math.stackexchange.com/questions/937495/relationship-between-regular-nim-and-laskers-nim)\n",
    "\n",
    "Ahora, puedes intentar este problema usando lo aprendido: [G3](https://www.codechef.com/problems/G3)\n",
    "\n",
    "Si deseas ver otro problema con staircase Nim puedes chequear [Move the Coins](https://www.hackerrank.com/contests/world-codesprint-april/challenges/move-the-coins). Revisar [[3]](https://codeforces.com/blog/entry/44651) te puede ayudar."
   ]
  },
  {
   "cell_type": "markdown",
   "metadata": {},
   "source": [
    "### Un poquito de grafos\n",
    "\n",
    "Si nos damos cuenta, en los juegos anteriores en cada momentos estoy en un estado `S` y puedo pasar a un conjunto de nuevos estados $S_1, S_2, \\dots, S_n$. Es decir, podría representar los juegos combinatorios mediante grafos así:\n",
    "\n",
    "$G = (X, F)$\n",
    "\n",
    "Donde:\n",
    "\n",
    "$X = $ Conjunto de posibles estados\n",
    "\n",
    "$F = \\bigcup \\, (x, y) \\mid y \\in \\sigma(x)$, donde\n",
    "\n",
    "$\\sigma(x) = $ estados alcanzables a partir del estado x\n",
    "\n",
    "Así, un juego combinatorio en G = (X, F) sigue las siguientes reglas:\n",
    "\n",
    "1. El primer jugador comienza en el estado $x_0$ (estado fijo)\n",
    "2. Los movimientos son alternados entre ambos jugadores\n",
    "3. Si se esta en el estado `x`, el jugador puede moverse a un estado `y` $\\mid y \\in \\sigma(x)$\n",
    "4. Si un jugador comienza su turno en un estado terminal, este pierde"
   ]
  },
  {
   "cell_type": "markdown",
   "metadata": {},
   "source": [
    "### Sprague-Grundy Function (Esto es lo que algunos conocen como Nim Values)\n",
    "\n",
    "$$g(x) = min\\{n \\geq 0: n \\not = g(y) \\quad \\forall y \\in \\sigma(x) \\}$$\n",
    "\n",
    "Lo anterior lo expresamos como:\n",
    "\n",
    "$$g(x) = mex\\{g(y): y \\in \\sigma(x) \\}$$\n",
    "\n",
    "Ahora, analogamente a la propiedad características de los estados WL, tenemos:\n",
    "1. Si x es una posición terminal, entonces g(x) = 0\n",
    "2. Si g(x) = 0, entonces $g(y) \\not = 0 \\quad \\forall y \\in \\sigma(x) $\n",
    "3. Si $g(x) \\not = 0$, entontes $\\exists y \\in \\sigma(x) \\mid g(y) = 0$\n",
    "\n",
    "Es decir, $g(x) = 0$ es equivalente a decir que $x \\in L$"
   ]
  },
  {
   "cell_type": "markdown",
   "metadata": {},
   "source": [
    "**Ejemplo:**\n",
    "- Solucionar el primer problema calculando sus Nim values (\"Ver pizarra\")\n",
    "\n",
    "**Ejercicio:**\n",
    "\n",
    "Encontrar el Sprague-Grundy function para el siguiente grafo:\n",
    "\n",
    "![](./pictures/ejercicio.png)\n",
    "\n",
    "La solución la pueden encontrar en ./pictures"
   ]
  },
  {
   "cell_type": "markdown",
   "metadata": {},
   "source": [
    "## The Sprague-Grundy Theorem\n",
    "\n",
    "**Pregunta:** ¿Podriamos combinar un numero finito de juegos para formar un 'nuevo juego'?  \n",
    "**Respuesta:** Podemos unir n juegos donde en cada turno un jugador debera escoger un juego y hacer un movimiento. Este juego tendra fin cuando todos los juegos alcancen un estado terminal y el ganador será el ganador del último juego que alcance un estado terminal.\n",
    "\n",
    "Lo anterior se define formalmente asi:\n",
    "\n",
    "Sea:\n",
    "\n",
    "$G_i = (X_i, F_i) \\quad [1 \\leq i \\leq n]$\n",
    "\n",
    "Formamos $G = (X, F)$, donde:\n",
    "\n",
    "$X = X_1 \\times \\dots \\times X_n$\n",
    "\n",
    "$F(x_1, \\dots, x_n) = \\{\\sigma_1(x_1) \\times \\dots \\times \\sigma_n(x_n) \\}$\n",
    "\n",
    "Ahora, el teorema de Sprague-Grundy nos dice que:\n",
    "\n",
    "$$g(x_1, \\dots, x_n) = g_1(x_1) \\oplus \\dots \\oplus g_n(x_n) $$\n",
    "\n",
    "**Demostración:**\n",
    "\n",
    "Ver [[1] - Capitulo 4](http://www.math.ucla.edu/%7Etom/Game_Theory/comb.pdf)\n"
   ]
  },
  {
   "cell_type": "markdown",
   "metadata": {},
   "source": [
    "Un super resumen de impartial games lo pueden encontrar en [[7] - Capitulo 25](https://cses.fi/book/index.html)"
   ]
  },
  {
   "cell_type": "markdown",
   "metadata": {},
   "source": [
    "## PROBLEMA [ASTRGAME](https://www.codechef.com/problems/ASTRGAME)\n",
    "\n",
    "Teddy y Tracy tienen un string `S` y `n` strings $\\{w_1, \\dots, w_n\\}$. Al inicio el unico string en juego es `S`. En cada turno el jugador escogera un string en juego (sea X) y un string $x_k$ tal que $X = Ax_kB$ donde A, B son substrings de X, posiblemente vacíos. Luego, Eliminará $x_k$ de X haciendo que ahora X ya no sea un string en juego, pero que si lo sean A y B. Perderá el jugador que ya no puede hacer un movimiento. Si Teddy comienza, ¿quién ganará?\n",
    "\n",
    "**Entrada**\n",
    "\n",
    "T: número de casos  \n",
    "Para cada caso  \n",
    "S, n  \n",
    "Seguido de $w_1, \\dots, w_n$\n",
    "\n",
    "**Salida**  \n",
    "'Teddy' si gana Teddy, 'Tracy' en caso contrario\n",
    "\n",
    "**Especificaciones**\n",
    "- $1 \\leq T \\leq 5$\n",
    "- $1 \\leq N \\leq 30$\n",
    "- $1 \\leq |S| \\leq 30$\n",
    "- $1 \\leq |w_i| \\leq 30$\n",
    "- $S$ y $w_i$ solo contiene caracteres 'a'-'z"
   ]
  },
  {
   "cell_type": "markdown",
   "metadata": {},
   "source": [
    "## SOLUCIÓN\n",
    "\n",
    "```cpp\n",
    "#include <bits/stdc++.h>\n",
    "\n",
    "using namespace std;\n",
    "\n",
    "int T, N;\n",
    "string S, word;\n",
    "set <string> dict;\n",
    "unordered_map <int, int> memo;\n",
    "\n",
    "inline int _hash(const int& l, const int& r) {\n",
    "  return l * S.size() + r;\n",
    "}\n",
    "\n",
    "int SGV (int l, int r) {\n",
    "  if (r < l) return 0;\n",
    "  int __hash = _hash(l, r);\n",
    "  if (memo.find(__hash) != memo.end()) return memo[__hash];\n",
    "  int mex = 0;\n",
    "  unordered_set <int> Grundy;\n",
    "  for (int i = l; i <= r; i++)\n",
    "    for (int j = i; j <= r; j++)\n",
    "      if (dict.find(string(S.begin() + i, S.begin() + j + 1)) != dict.end())\n",
    "        Grundy.insert(SGV(l, i - 1) xor SGV(j + 1, r));\n",
    "  while (Grundy.find(mex) != Grundy.end()) mex++;\n",
    "  return memo[__hash] = mex;\n",
    "}\n",
    "\n",
    "int main () {\n",
    "  cin >> T;\n",
    "  while (T--) {\n",
    "    memo.clear();\n",
    "    dict.clear();\n",
    "    cin >> S >> N;\n",
    "    while (N--) cin >> word, dict.insert(word);\n",
    "    puts(SGV(0, S.size() - 1) == 0 ? \"Tracy\" : \"Teddy\");\n",
    "  }\n",
    "  return (0);\n",
    "}\n",
    "\n",
    "```"
   ]
  },
  {
   "cell_type": "markdown",
   "metadata": {},
   "source": [
    "# PARTIZAN GAMES"
   ]
  },
  {
   "cell_type": "markdown",
   "metadata": {},
   "source": [
    "Ahora, si nos encontramos ante un `partizan game` en una competencia, es muy probable que nos den de entrada un estado del juego y nos pidan determinar quien ganará. Si intentaramos resolver esta clase de problemas usando las técnicas anteriormente mostradas, es muy probable que no lleguemos a nada o a una respuesta erroneo,\n",
    "\n",
    "Por lo general, cuando se presenta una de estos problemas la solución consiste en simular el árbol de decisiones.\n",
    "\n",
    "Ahora, recordamos que cuando queremos generar a partir de un estado todos los posibles estados que alcanza, y a partir de los estados alcanzados generar los nuevos estados que alcanza y ... Recordamos que podemos usar una técnica aprendida previamente:"
   ]
  },
  {
   "cell_type": "markdown",
   "metadata": {},
   "source": [
    "## Backtracking\n",
    "\n",
    "Usando backtracking nos damos cuenta que podemos formar todo el árbol de decisiones, y para determinar el ganador podemos asignar un valor de `utilidad` a cada estado terminal desde la perspectiva del primer jugador. Este valor `utilidad` podría indicar, por ejemplo, que tanto le conviene ese estado. Así, si es un estado en el que este jugador gana, podríamos representarlo por un número positivo, 0 en caso de empate y negativo en caso de perdida (para los problemas que veamos usualmente es suficiente usar valores de utilidad -1, 0 y 1).\n",
    "\n",
    "Ahora, debido a que los jugadores juegan óptimamnte se presenta un escenario donde en cada turno del primer jugador este intentará ir hacia un estado que le de la mayor utilidad, mientras que el segundo jugador buscará que el primer jugador obtenga la menor utilidad.\n",
    "\n",
    "Lo anterior es ilustrado en el siguiente gráfico para el juego de michi (o Tic-Tac-Toe como algunos lo conocen), puedes chequear [[4]](https://www.youtube.com/watch?v=6ELUvkSkCts) para una explicación más detallada:\n",
    "\n",
    "![](./pictures/tic-tac-toe.png)\n",
    "\n",
    "Ahora, debido a la frecuencia e importancia de este tipo de soluciones con backtracking, esta técnica anteriormente descrita recibe un nombre: Minimax (Recuerden el [Rumpelstiltskin Principle](https://alum.mit.edu/slice/rumpelstiltskin-principle))"
   ]
  },
  {
   "cell_type": "markdown",
   "metadata": {},
   "source": [
    "## Minimax\n",
    "\n",
    "**EJERCICIO:**\n",
    "\n",
    "![](./pictures/minimax.png)\n",
    "\n",
    "Usando la explicación anterior y la definición de la imagen. Determinar Minimax(A)"
   ]
  },
  {
   "cell_type": "markdown",
   "metadata": {},
   "source": [
    "## Alpha-Beta Prunning\n",
    "\n",
    "Para nuestro caso en particular, nuestro función utilidad solo toma valores -1, 0 o 1. Luego, por ejemplo, si estoy generando el arbol de decisiones y actualmente esty intentando maximimar el valor que puede alcanzar un estado y ya obtuve un 1, entonces ya no necesito recorrer otros estados que sean generados a partir de mi estado actual. De manera similar ocurre si estoy intentando minimizar un estado y ya encontre un -1.\n",
    "\n",
    "Lo anterior descrito nos permite hacer prunning a nuestro backtracking (que llamamos Minimax para los casos que estamos estudiando). El prunning anteriormente descrito lo conoceremos como Alpha-Beta prunning.\n",
    "\n",
    "Lo explicado aquí lo pueden encontrar en más detalle y con otras funciones de utilidad en [[5]](https://www.youtube.com/watch?v=d2maa6k2gYE)"
   ]
  },
  {
   "cell_type": "markdown",
   "metadata": {},
   "source": [
    "## EJERCICIO [GAME 31](https://www.spoj.com/problems/GAME31/)\n",
    "\n",
    "Se tiene una baraja de cartas del 1 al 6 en sus 4 tipos de cada valor. Asi, en total se tiene 24 cartas. En cada turno un jugador debe escoger una carta. El primero que escoja una carta tal que la suma de todas los valores de las cartas sacadas sea mayor a 31 pierde. Si dos jugadores (A y B) ya sacaron una cantida `n` de cartas $s_1 \\dots s_n$ y A comenzo. ¿Quién ganará?\n",
    "\n",
    "**Entrada**  \n",
    "Un número indefinido de lineas. En cada línea recibirás:\n",
    "$s_1 \\dots s_n$ representando las cartas que ya han sido escogidas\n",
    "\n",
    "**Salida**  \n",
    "$s_1 \\dots s_n$ [Ganador]\n"
   ]
  },
  {
   "cell_type": "markdown",
   "metadata": {},
   "source": [
    "## SOLUCIÓN\n",
    "\n",
    "```cpp\n",
    "#include <bits/stdc++.h>\n",
    "\n",
    "using namespace std;\n",
    "\n",
    "const int LEN = 100, N_CARDS = 6;\n",
    "\n",
    "int ct[N_CARDS + 1];\n",
    "char moves[LEN];\n",
    "bool ans;\n",
    "\n",
    "namespace Minimax {\n",
    "  int minVal();\n",
    "  int maxVal();\n",
    "  void solve();\n",
    "}\n",
    "\n",
    "namespace Minimax {\n",
    "    \n",
    "  int sum;\n",
    "  const int WIN  =  1;\n",
    "  const int FAIL = -1;\n",
    "\n",
    "  int minVal () {\n",
    "    if (sum > 31) return FAIL;\n",
    "    int ret = WIN;\n",
    "    for (int card = 1; card <= N_CARDS and ret != FAIL; card++) {\n",
    "      if (ct[card]) {\n",
    "        ct[card]--, sum += card;\n",
    "        ret = min(ret, maxVal());\n",
    "        ct[card]++, sum -= card;\n",
    "      }\n",
    "    }\n",
    "    return ret;\n",
    "  }\n",
    "\n",
    "  int maxVal () {\n",
    "    if (sum > 31) return WIN;\n",
    "    int ret = FAIL;\n",
    "    for (int card = 1; card <= N_CARDS and ret != WIN; card++) {\n",
    "      if (ct[card]) {\n",
    "        ct[card]--, sum += card;\n",
    "        ret = max(ret, minVal());\n",
    "        ct[card]++, sum -= card;\n",
    "      }\n",
    "    }\n",
    "    return ret;\n",
    "  }\n",
    "\n",
    "  void solve () {\n",
    "    sum = 0;\n",
    "    int id;\n",
    "    for (id = 0; moves[id]; id++) {\n",
    "      ct[moves[id] - '0']--;\n",
    "      sum += moves[id] - '0';\n",
    "    }\n",
    "    int res = (id & 1) ? minVal() : maxVal();\n",
    "    ans = res == WIN;\n",
    "  }\n",
    "}\n",
    "\n",
    "\n",
    "inline void print() {\n",
    "  printf(\"%s %c\\n\", moves, \"BA\"[ans]);\n",
    "}\n",
    "\n",
    "inline bool read() {\n",
    "  if (cin.getline(moves, LEN)) return true;\n",
    "  return false;\n",
    "}\n",
    "\n",
    "inline void clear() {\n",
    "  fill(ct, ct + N_CARDS, 4);\n",
    "}\n",
    "\n",
    "int main () {\n",
    "  while (read()) {\n",
    "    clear();\n",
    "    Minimax::solve();\n",
    "    print();\n",
    "  }\n",
    "  return (0);   \n",
    "}\n",
    "\n",
    "\n",
    "```"
   ]
  },
  {
   "cell_type": "markdown",
   "metadata": {},
   "source": [
    "Una explicación más amplia de Minimax y Alpha-Beta prunning la pueden encontrar en [[6]](https://www.youtube.com/watch?v=STjW3eH0Cik&index=6&list=PLUl4u3cNGP63gFHB6xb-kVBiQHYe_4hSi)"
   ]
  },
  {
   "cell_type": "markdown",
   "metadata": {},
   "source": [
    "## Bibliografía\n",
    "\n",
    "1. [Game Theory - Tomas S. Ferguson](http://www.math.ucla.edu/%7Etom/Game_Theory/comb.pdf)\n",
    "2. [Algorithm Games - Topcoder](https://www.topcoder.com/community/data-science/data-science-tutorials/algorithm-games/)\n",
    "3. [Intro to Staircase Nim + Editorial for HackerRank \"Move the Coins\"](https://codeforces.com/blog/entry/44651)\n",
    "4. [Minimax algorithm](https://www.youtube.com/watch?v=6ELUvkSkCts)\n",
    "5. [Alpha beta prunning](https://www.youtube.com/watch?v=d2maa6k2gYE)\n",
    "6. [Search: Games, Minimax, and Alpha-Beta](https://www.youtube.com/watch?v=STjW3eH0Cik&index=6&list=PLUl4u3cNGP63gFHB6xb-kVBiQHYe_4hSi)\n",
    "7. [Competitive Programmer’s Handbook - Antti Laaksonen](https://cses.fi/book/index.html)"
   ]
  }
 ],
 "metadata": {
  "kernelspec": {
   "display_name": "Python 3",
   "language": "python",
   "name": "python3"
  },
  "language_info": {
   "codemirror_mode": {
    "name": "ipython",
    "version": 3
   },
   "file_extension": ".py",
   "mimetype": "text/x-python",
   "name": "python",
   "nbconvert_exporter": "python",
   "pygments_lexer": "ipython3",
   "version": "3.7.0"
  }
 },
 "nbformat": 4,
 "nbformat_minor": 2
}
