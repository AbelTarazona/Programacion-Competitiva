{
 "cells": [
  {
   "cell_type": "markdown",
   "metadata": {},
   "source": [
    "# Programación competitiva y la terminal"
   ]
  },
  {
   "cell_type": "markdown",
   "metadata": {},
   "source": [
    "En en sistema Linux, el `shell` es una interfaz de comandos que permite la comunicación entre el usuario y el computador mediante el uso de comandos. Luego, cuando nuestro sistema tiene una interfaz gráfica (GUI), usamos un terminal para emular el uso del shell."
   ]
  },
  {
   "cell_type": "markdown",
   "metadata": {},
   "source": [
    "El uso de la terminal nos facilita la realización de distintas tareas mientras resolvemos los problemas de programación competitiva. Pero, para ello, tenemos que saber utilizar algunos comandos básicos."
   ]
  },
  {
   "cell_type": "markdown",
   "metadata": {},
   "source": [
    "Lo primero es saber como abrir la terminal. Eso varia entre cada sistema.\n",
    "- En Windows puedes ir a `Ejecutar` y escribir `cmd` o buscarlo en tus programas.\n",
    "- En Linux puedes buscar `Terminal` y lo encontraras o, dependiendo de tu distribución, puedes usar `shortcuts`. Por ejemplo, en Ubuntu puedes acceder a la terminal con `Ctrl + Alt + T`."
   ]
  },
  {
   "cell_type": "markdown",
   "metadata": {},
   "source": [
    "Ya en la terminal puedes escribir ciertos comandos:"
   ]
  },
  {
   "cell_type": "markdown",
   "metadata": {},
   "source": [
    "### **`pwd`** : Te indica tu ubicación actual"
   ]
  },
  {
   "cell_type": "code",
   "execution_count": 3,
   "metadata": {},
   "outputs": [
    {
     "name": "stdout",
     "output_type": "stream",
     "text": [
      "/home/tisparta/Documents/Github/ProgramacionCompetitivaUNI/no-fiis/clase-06\n"
     ]
    }
   ],
   "source": [
    "pwd"
   ]
  },
  {
   "cell_type": "markdown",
   "metadata": {},
   "source": [
    "### **`ls`**: Te muestra los archivos que hay en tu ubicación actual"
   ]
  },
  {
   "cell_type": "code",
   "execution_count": 5,
   "metadata": {},
   "outputs": [
    {
     "name": "stdout",
     "output_type": "stream",
     "text": [
      "clase-06.ipynb\n"
     ]
    }
   ],
   "source": [
    "ls"
   ]
  },
  {
   "cell_type": "markdown",
   "metadata": {},
   "source": [
    "### **`ls -a`**: Te muestra los archivos que hay en tu ubicación actual, incluyendo los archivos ocultos"
   ]
  },
  {
   "cell_type": "code",
   "execution_count": 6,
   "metadata": {},
   "outputs": [
    {
     "name": "stdout",
     "output_type": "stream",
     "text": [
      "\u001b[0m\u001b[01;34m.\u001b[0m  \u001b[01;34m..\u001b[0m  clase-06.ipynb  \u001b[01;34m.ipynb_checkpoints\u001b[0m\n"
     ]
    }
   ],
   "source": [
    "ls -a"
   ]
  },
  {
   "cell_type": "markdown",
   "metadata": {},
   "source": [
    "Por defecto, las carpetas se muestran con un color distinto, tal y como podemos ver en el ejemplo anterior. Además, en toda ubicación encontraremos las carpetas:\n",
    "- `.` : Hace referencia al directorio actual\n",
    "- `..` : Hace referencia al directorio padre\n",
    "\n",
    "Por ejemplo, para mi ubicación actual (`/home/tisparta/Documents/Github/ProgramacionCompetitivaUNI/no-fiis/clase-06`), mi directorio actual es `clase-06` y mi directorio padre es `no-fiis`"
   ]
  },
  {
   "cell_type": "markdown",
   "metadata": {},
   "source": [
    "### **`cd`**: Cambia tu ubicación"
   ]
  },
  {
   "cell_type": "code",
   "execution_count": 7,
   "metadata": {},
   "outputs": [
    {
     "name": "stdout",
     "output_type": "stream",
     "text": [
      "/home/tisparta/Documents/Github/ProgramacionCompetitivaUNI/no-fiis/clase-06\n"
     ]
    }
   ],
   "source": [
    "pwd"
   ]
  },
  {
   "cell_type": "code",
   "execution_count": 8,
   "metadata": {
    "collapsed": true
   },
   "outputs": [],
   "source": [
    "cd .."
   ]
  },
  {
   "cell_type": "code",
   "execution_count": 9,
   "metadata": {},
   "outputs": [
    {
     "name": "stdout",
     "output_type": "stream",
     "text": [
      "/home/tisparta/Documents/Github/ProgramacionCompetitivaUNI/no-fiis\n"
     ]
    }
   ],
   "source": [
    "pwd"
   ]
  },
  {
   "cell_type": "code",
   "execution_count": 10,
   "metadata": {},
   "outputs": [
    {
     "name": "stdout",
     "output_type": "stream",
     "text": [
      "\u001b[0m\u001b[01;34mclase-01\u001b[0m  \u001b[01;34mclase-02\u001b[0m  \u001b[01;34mclase-03\u001b[0m  \u001b[01;34mclase-04\u001b[0m  \u001b[01;34mclase-05\u001b[0m  \u001b[01;34mclase-06\u001b[0m\n"
     ]
    }
   ],
   "source": [
    "ls"
   ]
  },
  {
   "cell_type": "code",
   "execution_count": 11,
   "metadata": {
    "collapsed": true
   },
   "outputs": [],
   "source": [
    "cd clase-06"
   ]
  },
  {
   "cell_type": "code",
   "execution_count": 12,
   "metadata": {},
   "outputs": [
    {
     "name": "stdout",
     "output_type": "stream",
     "text": [
      "/home/tisparta/Documents/Github/ProgramacionCompetitivaUNI/no-fiis/clase-06\n"
     ]
    }
   ],
   "source": [
    "pwd"
   ]
  },
  {
   "cell_type": "code",
   "execution_count": 13,
   "metadata": {},
   "outputs": [
    {
     "name": "stdout",
     "output_type": "stream",
     "text": [
      "clase-06.ipynb\n"
     ]
    }
   ],
   "source": [
    "ls"
   ]
  },
  {
   "cell_type": "markdown",
   "metadata": {},
   "source": [
    "### `touch` : Crea un archivo vacío"
   ]
  },
  {
   "cell_type": "code",
   "execution_count": 15,
   "metadata": {},
   "outputs": [
    {
     "name": "stdout",
     "output_type": "stream",
     "text": [
      "clase-06.ipynb  ejemplo-01.cpp\n"
     ]
    }
   ],
   "source": [
    "touch ejemplo-01.cpp\n",
    "ls"
   ]
  },
  {
   "cell_type": "markdown",
   "metadata": {},
   "source": [
    "### `rm` : Elimina un archivo"
   ]
  },
  {
   "cell_type": "code",
   "execution_count": 16,
   "metadata": {},
   "outputs": [
    {
     "name": "stdout",
     "output_type": "stream",
     "text": [
      "clase-06.ipynb\n"
     ]
    }
   ],
   "source": [
    "rm ejemplo-01.cpp\n",
    "ls"
   ]
  },
  {
   "cell_type": "markdown",
   "metadata": {},
   "source": [
    "### `mkdir` : Crea una carpeta"
   ]
  },
  {
   "cell_type": "code",
   "execution_count": 17,
   "metadata": {},
   "outputs": [
    {
     "name": "stdout",
     "output_type": "stream",
     "text": [
      "clase-06.ipynb  \u001b[0m\u001b[01;34mNueva-carpeta\u001b[0m\n"
     ]
    }
   ],
   "source": [
    "mkdir Nueva-carpeta\n",
    "ls"
   ]
  },
  {
   "cell_type": "markdown",
   "metadata": {},
   "source": [
    "### `rmdir` : Elimina una carpeta vacía"
   ]
  },
  {
   "cell_type": "code",
   "execution_count": 18,
   "metadata": {},
   "outputs": [
    {
     "name": "stdout",
     "output_type": "stream",
     "text": [
      "clase-06.ipynb\n"
     ]
    }
   ],
   "source": [
    "rmdir Nueva-carpeta\n",
    "ls"
   ]
  },
  {
   "cell_type": "markdown",
   "metadata": {},
   "source": [
    "### `rm -r` : Elimina archivos recursivamente (Así podemos eliminar una carpeta con contenido, por ejemplo)"
   ]
  },
  {
   "cell_type": "code",
   "execution_count": 21,
   "metadata": {},
   "outputs": [
    {
     "name": "stdout",
     "output_type": "stream",
     "text": [
      "\u001b[0m\u001b[01;34mcarpeta-temporal\u001b[0m  clase-06.ipynb\n"
     ]
    }
   ],
   "source": [
    "mkdir carpeta-temporal\n",
    "ls"
   ]
  },
  {
   "cell_type": "code",
   "execution_count": 22,
   "metadata": {},
   "outputs": [
    {
     "name": "stdout",
     "output_type": "stream",
     "text": [
      "archivo-01.cpp  archivo-02.cpp\n"
     ]
    }
   ],
   "source": [
    "touch carpeta-temporal/archivo-01.cpp carpeta-temporal/archivo-02.cpp\n",
    "ls carpeta-temporal/"
   ]
  },
  {
   "cell_type": "code",
   "execution_count": 23,
   "metadata": {},
   "outputs": [
    {
     "name": "stdout",
     "output_type": "stream",
     "text": [
      "rmdir: failed to remove 'carpeta-temporal': Directory not empty\n"
     ]
    },
    {
     "ename": "",
     "evalue": "1",
     "output_type": "error",
     "traceback": []
    }
   ],
   "source": [
    "rmdir carpeta-temporal"
   ]
  },
  {
   "cell_type": "markdown",
   "metadata": {},
   "source": [
    "Como la carpeta no está vacia, si usamos `rmdir` nos arroja un error"
   ]
  },
  {
   "cell_type": "code",
   "execution_count": 24,
   "metadata": {
    "collapsed": true
   },
   "outputs": [],
   "source": [
    "rm -r carpeta-temporal"
   ]
  },
  {
   "cell_type": "code",
   "execution_count": 25,
   "metadata": {},
   "outputs": [
    {
     "name": "stdout",
     "output_type": "stream",
     "text": [
      "clase-06.ipynb\n"
     ]
    }
   ],
   "source": [
    "ls"
   ]
  },
  {
   "cell_type": "markdown",
   "metadata": {},
   "source": [
    "Tambien podemos eliminar archivos haciendo uso de comodines, por ejemplo:\n",
    "\n",
    "### `rm *.cpp` : Elimina todos los archivos con extensión cpp en la carpeta actual"
   ]
  },
  {
   "cell_type": "code",
   "execution_count": 26,
   "metadata": {},
   "outputs": [
    {
     "name": "stdout",
     "output_type": "stream",
     "text": [
      "clase-06.ipynb  hola.cpp  mundo.cpp\n"
     ]
    }
   ],
   "source": [
    "touch hola.cpp mundo.cpp\n",
    "ls"
   ]
  },
  {
   "cell_type": "code",
   "execution_count": 27,
   "metadata": {},
   "outputs": [
    {
     "name": "stdout",
     "output_type": "stream",
     "text": [
      "clase-06.ipynb\n"
     ]
    }
   ],
   "source": [
    "rm *.cpp\n",
    "ls"
   ]
  },
  {
   "cell_type": "markdown",
   "metadata": {},
   "source": [
    "Ahora, el reto puesto en clase es:\n",
    "\n",
    "## Usar un editor de texto en terminal (e.g. Vim, gedit, ...) por un mes\n",
    "\n",
    "Para poder comparar nosotros mismos si usar alguno de estos editores puede ayudarnos a mejorar nuestra eficiencia a la hora de codear."
   ]
  },
  {
   "cell_type": "markdown",
   "metadata": {},
   "source": [
    "Podemos usarlos simplemente escribiendo sus nombrs en la terminal\n",
    "- vim nombre-del-archivo.cpp\n",
    "- gedit nombre-del-archivo.cpp"
   ]
  },
  {
   "cell_type": "markdown",
   "metadata": {},
   "source": [
    "Además, podemos utilizar la terminal para visualizar rapidamente el contenido de un archivo, por ejemplo, copiare un archivo `hola-mundo.cpp` a mi ubicación actual y usaremos la terminal para visualizarlo:"
   ]
  },
  {
   "cell_type": "code",
   "execution_count": 1,
   "metadata": {},
   "outputs": [
    {
     "name": "stdout",
     "output_type": "stream",
     "text": [
      "clase-06.ipynb  hola-mundo.cpp\n"
     ]
    }
   ],
   "source": [
    "ls"
   ]
  },
  {
   "cell_type": "markdown",
   "metadata": {
    "collapsed": true
   },
   "source": [
    "### `cat` : Te muestra el contenido de un archivo"
   ]
  },
  {
   "cell_type": "code",
   "execution_count": 2,
   "metadata": {},
   "outputs": [
    {
     "name": "stdout",
     "output_type": "stream",
     "text": [
      "#include <bits/stdc++.h>\n",
      "\n",
      "using namespace std;\n",
      "\n",
      "int main() {\n",
      "    cout << \"Hola mundo\" << endl;\n",
      "    return (0);\n",
      "}\n"
     ]
    }
   ],
   "source": [
    "cat hola-mundo.cpp"
   ]
  },
  {
   "cell_type": "markdown",
   "metadata": {},
   "source": [
    "### `head -n x`: Te muestra las `x` primeras líneas de un archivo"
   ]
  },
  {
   "cell_type": "code",
   "execution_count": 3,
   "metadata": {},
   "outputs": [
    {
     "name": "stdout",
     "output_type": "stream",
     "text": [
      "#include <bits/stdc++.h>\n",
      "\n",
      "using namespace std;\n"
     ]
    }
   ],
   "source": [
    "head -n 3 hola-mundo.cpp"
   ]
  },
  {
   "cell_type": "markdown",
   "metadata": {},
   "source": [
    "### `tail -n x`: Te muestra las `x` primeras líneas de un archivo"
   ]
  },
  {
   "cell_type": "code",
   "execution_count": 4,
   "metadata": {},
   "outputs": [
    {
     "name": "stdout",
     "output_type": "stream",
     "text": [
      "    cout << \"Hola mundo\" << endl;\n",
      "    return (0);\n",
      "}\n"
     ]
    }
   ],
   "source": [
    "tail -n 3 hola-mundo.cpp"
   ]
  },
  {
   "cell_type": "markdown",
   "metadata": {},
   "source": [
    "### `less`: Te permite nagevar el contenido de un archivo"
   ]
  },
  {
   "cell_type": "markdown",
   "metadata": {},
   "source": [
    "Ahora, si queremos correr un archivo de c++ usando la terminal, corremos:"
   ]
  },
  {
   "cell_type": "markdown",
   "metadata": {},
   "source": [
    "### `g++ archivo.cpp`: Compila el `archivo.cpp` y crea o sobreescribe el archivo `a.out`"
   ]
  },
  {
   "cell_type": "code",
   "execution_count": 7,
   "metadata": {
    "collapsed": true
   },
   "outputs": [],
   "source": [
    "g++ hola-mundo.cpp"
   ]
  },
  {
   "cell_type": "code",
   "execution_count": 8,
   "metadata": {},
   "outputs": [
    {
     "name": "stdout",
     "output_type": "stream",
     "text": [
      "\u001b[0m\u001b[01;32ma.out\u001b[0m  clase-06.ipynb  hola-mundo.cpp\n"
     ]
    }
   ],
   "source": [
    "ls"
   ]
  },
  {
   "cell_type": "markdown",
   "metadata": {},
   "source": [
    "### `g++ archivo.cpp -o executable:` Compila el archivo `archivo.cpp` y crea el ejecutable de nombre `executable`"
   ]
  },
  {
   "cell_type": "code",
   "execution_count": 9,
   "metadata": {
    "collapsed": true
   },
   "outputs": [],
   "source": [
    "g++ hola-mundo.cpp -o executable"
   ]
  },
  {
   "cell_type": "code",
   "execution_count": 10,
   "metadata": {},
   "outputs": [
    {
     "name": "stdout",
     "output_type": "stream",
     "text": [
      "\u001b[0m\u001b[01;32ma.out\u001b[0m  clase-06.ipynb  \u001b[01;32mexecutable\u001b[0m  hola-mundo.cpp\n"
     ]
    }
   ],
   "source": [
    "ls"
   ]
  },
  {
   "cell_type": "markdown",
   "metadata": {},
   "source": [
    "Y los archivos creados los puedes correr escribiendo:\n",
    "\n",
    "### ./nombre-del-ejecutable: Corre el ejecutable creado al compilar el archivo de c++"
   ]
  },
  {
   "cell_type": "markdown",
   "metadata": {},
   "source": [
    "Además, podemos manipular la forma como recibe la entrada o como arroja la salida el ejecutable creado:\n",
    "\n",
    "### `./nombre-del-ejecutable <archivo-de-entrata.txt` : El programa recibe la entrada del archivo llamado `archivo-de-entrada.txt`\n",
    "### `./nombre-del-ejecutable >archivo-de-salida.txt` : El programa imprime la salida en el archivo llamado `archivo-de-salida.txt`"
   ]
  },
  {
   "cell_type": "markdown",
   "metadata": {},
   "source": [
    "Además, podemos combinar lo anterior y manipular la entrada y salida del programa\n",
    "De esta manera, podemos tener guardada la entrada de un programa en un archivo y así nos ahorras estar escribiendo los casos de entrada cada vez que vamos probando nuestro programa y podemos dirigir la salida a un archivo de salida para poder analizarlo con mayor facilidad.\n",
    "\n",
    "Por otro lado, podemos hacer esto también:\n",
    "### time ./nombre-del-ejecutable : Muestra el tiempo de ejecución al correr el programa\n",
    "\n",
    "Y podemos combinar todo lo anterior para obtener el tiempo que demora nuestro programa en correr un archivo de entrada dado y escribir la respuesta en otro archivo."
   ]
  },
  {
   "cell_type": "markdown",
   "metadata": {},
   "source": [
    "Y como señale en clase, hay situaciones en las que tienes un problema y tienes una solución con una complejidad aceptable, pero no estas seguro si está bien, pero sabes una solución que estas seguro es correcta pero que tiene una mala complejidad. Entonces, puedes hacer 2 programas:\n",
    "* programa-01 : No estoy seguro si está bien, pero es rápido\n",
    "* programa-02 : Está bien, pero es lento\n",
    "* entrada.txt : Archivo de entrada\n",
    "\n",
    "Entonces, puedo correr ambos programas con esa entrada y comparar sus salidas así:\n",
    "#### ./programa-01 <entrada.txt >salida-01.txt\n",
    "#### ./programa-02 <entrada.txt >salida-02.txt\n",
    "\n",
    "Y puedo comparar las salidas manualmente visualizando ambos archivos:\n",
    "#### gedit salida-01.txt salida-02.txt\n",
    "\n",
    "O puedo correr:\n",
    "### diff salida-01.txt salida-02: Arroja las diferencias entre ambos archivos o nada si son iguales"
   ]
  },
  {
   "cell_type": "markdown",
   "metadata": {},
   "source": [
    "De manera que, si ambas salidas son iguales, puedo estar más seguro de que mi programa-01 podría estar bien. Además, puedo crear otro programa que genere el archivo `entrada.txt` de manera aleatoria para asi poder probar mis soluciones para más situaciones. De esta manera, si hay un error en mi programa, es probable que termine encontrándolo."
   ]
  },
  {
   "cell_type": "markdown",
   "metadata": {},
   "source": [
    "## Ejemplos hechos en clase"
   ]
  },
  {
   "cell_type": "markdown",
   "metadata": {},
   "source": [
    "* [Namespace](./ejemplos/namespace.cpp 'Namespace')\n",
    "* [Struct](./ejemplos/struct.cpp 'Struct')"
   ]
  }
 ],
 "metadata": {
  "kernelspec": {
   "display_name": "Bash",
   "language": "bash",
   "name": "bash"
  },
  "language_info": {
   "codemirror_mode": "shell",
   "file_extension": ".sh",
   "mimetype": "text/x-sh",
   "name": "bash"
  }
 },
 "nbformat": 4,
 "nbformat_minor": 2
}
